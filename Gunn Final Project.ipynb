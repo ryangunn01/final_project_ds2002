{
 "cells": [
  {
   "cell_type": "code",
   "execution_count": 0,
   "metadata": {
    "application/vnd.databricks.v1+cell": {
     "cellMetadata": {
      "byteLimit": 2048000,
      "rowLimit": 10000
     },
     "inputWidgets": {},
     "nuid": "f984f3de-ae27-4aaa-827b-10832a6a4af9",
     "showTitle": false,
     "title": ""
    }
   },
   "outputs": [
    {
     "output_type": "stream",
     "name": "stdout",
     "output_type": "stream",
     "text": [
      "\u001B[43mNote: you may need to restart the kernel using dbutils.library.restartPython() to use updated packages.\u001B[0m\nCollecting pymongo\n  Downloading pymongo-4.7.2-cp310-cp310-manylinux_2_17_x86_64.manylinux2014_x86_64.whl (670 kB)\n     ━━━━━━━━━━━━━━━━━━━━━━━━━━━━━━━━━━━━━━ 670.0/670.0 kB 12.1 MB/s eta 0:00:00\nCollecting dnspython<3.0.0,>=1.16.0\n  Downloading dnspython-2.6.1-py3-none-any.whl (307 kB)\n     ━━━━━━━━━━━━━━━━━━━━━━━━━━━━━━━━━━━━━━ 307.7/307.7 kB 19.0 MB/s eta 0:00:00\nInstalling collected packages: dnspython, pymongo\nSuccessfully installed dnspython-2.6.1 pymongo-4.7.2\n\u001B[43mNote: you may need to restart the kernel using dbutils.library.restartPython() to use updated packages.\u001B[0m\n"
     ]
    }
   ],
   "source": [
    "%pip install pymongo"
   ]
  },
  {
   "cell_type": "code",
   "execution_count": 0,
   "metadata": {
    "application/vnd.databricks.v1+cell": {
     "cellMetadata": {
      "byteLimit": 2048000,
      "rowLimit": 10000
     },
     "inputWidgets": {},
     "nuid": "643f1981-7475-44c0-bbc1-96a90b24abcd",
     "showTitle": false,
     "title": ""
    }
   },
   "outputs": [],
   "source": [
    "import os\n",
    "import json\n",
    "import pymongo\n",
    "import pyspark.pandas as pd  # This uses Koalas that is included in PySpark version 3.2 or newer.\n",
    "from pyspark.sql.functions import col\n",
    "from pyspark.sql.types import StructType, StructField, StringType, TimestampType, BinaryType\n",
    "from pyspark.sql.types import ByteType, ShortType, IntegerType, LongType, FloatType, DecimalType"
   ]
  },
  {
   "cell_type": "code",
   "execution_count": 0,
   "metadata": {
    "application/vnd.databricks.v1+cell": {
     "cellMetadata": {
      "byteLimit": 2048000,
      "rowLimit": 10000
     },
     "inputWidgets": {},
     "nuid": "691f7ee7-242a-4145-a7e3-77f006d69454",
     "showTitle": false,
     "title": ""
    }
   },
   "outputs": [
    {
     "output_type": "execute_result",
     "data": {
      "text/plain": [
       "False"
      ]
     },
     "execution_count": 3,
     "metadata": {},
     "output_type": "execute_result"
    }
   ],
   "source": [
    "dbutils.fs.rm(\"/FileStore/tables/project_data/bronze\",True)\n",
    "dbutils.fs.rm(\"/FileStore/tables/project_data/silver\",True)\n",
    "dbutils.fs.rm(\"/FileStore/tables/project_data/gold\",True)"
   ]
  },
  {
   "cell_type": "code",
   "execution_count": 0,
   "metadata": {
    "application/vnd.databricks.v1+cell": {
     "cellMetadata": {
      "byteLimit": 2048000,
      "rowLimit": 10000
     },
     "inputWidgets": {},
     "nuid": "fed4a3ad-ef3c-4786-b919-ccc5b6a1a7a6",
     "showTitle": false,
     "title": ""
    }
   },
   "outputs": [],
   "source": [
    "# Azure MySQL Server Connection Information ###################\n",
    "jdbc_hostname = \"<rmg7jb>.mysql.database.azure.com\"\n",
    "jdbc_port = 3306\n",
    "src_database = \"chinook_dw\"\n",
    "\n",
    "connection_properties = {\n",
    "  \"user\" : \"rmg7jb\",\n",
    "  \"password\" : \"Passw0rd123!\",\n",
    "  \"driver\" : \"org.mariadb.jdbc.Driver\"\n",
    "}\n",
    "\n",
    "# MongoDB Atlas Connection Information ########################\n",
    "atlas_cluster_name = \"cluster0.6kd78gj\"\n",
    "atlas_database_name = \"Chinook\"\n",
    "atlas_user_name = \"rmg7jb\"\n",
    "atlas_password = \"Passw0rd123\"\n"
   ]
  },
  {
   "cell_type": "code",
   "execution_count": 0,
   "metadata": {
    "application/vnd.databricks.v1+cell": {
     "cellMetadata": {
      "byteLimit": 2048000,
      "rowLimit": 10000
     },
     "inputWidgets": {},
     "nuid": "776bef5b-8371-4aaf-94d8-2df9f14bf737",
     "showTitle": false,
     "title": ""
    }
   },
   "outputs": [],
   "source": [
    "##################################################################################################################\n",
    "# Use this Function to Fetch a DataFrame from the MongoDB Atlas database server Using PyMongo.\n",
    "##################################################################################################################\n",
    "def get_mongo_dataframe(user_id, pwd, cluster_name, db_name, collection, conditions, projection, sort):\n",
    "    '''Create a client connection to MongoDB'''\n",
    "    mongo_uri = f\"mongodb+srv://{user_id}:{pwd}@{cluster_name}.mongodb.net/{db_name}\"\n",
    "    \n",
    "    client = pymongo.MongoClient(mongo_uri)\n",
    "\n",
    "    '''Query MongoDB, and fill a python list with documents to create a DataFrame'''\n",
    "    db = client[db_name]\n",
    "    if conditions and projection and sort:\n",
    "        dframe = pd.DataFrame(list(db[collection].find(conditions, projection).sort(sort)))\n",
    "    elif conditions and projection and not sort:\n",
    "        dframe = pd.DataFrame(list(db[collection].find(conditions, projection)))\n",
    "    else:\n",
    "        dframe = pd.DataFrame(list(db[collection].find()))\n",
    "\n",
    "    client.close()\n",
    "    \n",
    "    return dframe\n"
   ]
  },
  {
   "cell_type": "code",
   "execution_count": 0,
   "metadata": {
    "application/vnd.databricks.v1+cell": {
     "cellMetadata": {
      "byteLimit": 2048000,
      "implicitDf": true,
      "rowLimit": 10000
     },
     "inputWidgets": {},
     "nuid": "96a5aa0b-8020-4c85-ad20-f34039ff859e",
     "showTitle": false,
     "title": ""
    }
   },
   "outputs": [
    {
     "output_type": "display_data",
     "data": {
      "text/html": [
       "<style scoped>\n",
       "  .table-result-container {\n",
       "    max-height: 300px;\n",
       "    overflow: auto;\n",
       "  }\n",
       "  table, th, td {\n",
       "    border: 1px solid black;\n",
       "    border-collapse: collapse;\n",
       "  }\n",
       "  th, td {\n",
       "    padding: 5px;\n",
       "  }\n",
       "  th {\n",
       "    text-align: left;\n",
       "  }\n",
       "</style><div class='table-result-container'><table class='table-result'><thead style='background-color: white'><tr></tr></thead><tbody></tbody></table></div>"
      ]
     },
     "metadata": {
      "application/vnd.databricks.v1+output": {
       "addedWidgets": {},
       "aggData": [],
       "aggError": "",
       "aggOverflow": false,
       "aggSchema": [],
       "aggSeriesLimitReached": false,
       "aggType": "",
       "arguments": {},
       "columnCustomDisplayInfos": {},
       "data": [],
       "datasetInfos": [],
       "dbfsResultPath": null,
       "isJsonSchema": true,
       "metadata": {
        "dataframeName": null
       },
       "overflow": false,
       "plotOptions": {
        "customPlotOptions": {},
        "displayType": "table",
        "pivotAggregation": null,
        "pivotColumns": null,
        "xColumns": null,
        "yColumns": null
       },
       "removedWidgets": [],
       "schema": [],
       "type": "table"
      }
     },
     "output_type": "display_data"
    }
   ],
   "source": [
    "%sql\n",
    "DROP DATABASE IF EXISTS chinook_dlh CASCADE;"
   ]
  },
  {
   "cell_type": "code",
   "execution_count": 0,
   "metadata": {
    "application/vnd.databricks.v1+cell": {
     "cellMetadata": {
      "byteLimit": 2048000,
      "implicitDf": true,
      "rowLimit": 10000
     },
     "inputWidgets": {},
     "nuid": "b2bf3e5d-444c-4be9-bcdf-0017c013c5de",
     "showTitle": false,
     "title": ""
    }
   },
   "outputs": [
    {
     "output_type": "display_data",
     "data": {
      "text/html": [
       "<style scoped>\n",
       "  .table-result-container {\n",
       "    max-height: 300px;\n",
       "    overflow: auto;\n",
       "  }\n",
       "  table, th, td {\n",
       "    border: 1px solid black;\n",
       "    border-collapse: collapse;\n",
       "  }\n",
       "  th, td {\n",
       "    padding: 5px;\n",
       "  }\n",
       "  th {\n",
       "    text-align: left;\n",
       "  }\n",
       "</style><div class='table-result-container'><table class='table-result'><thead style='background-color: white'><tr></tr></thead><tbody></tbody></table></div>"
      ]
     },
     "metadata": {
      "application/vnd.databricks.v1+output": {
       "addedWidgets": {},
       "aggData": [],
       "aggError": "",
       "aggOverflow": false,
       "aggSchema": [],
       "aggSeriesLimitReached": false,
       "aggType": "",
       "arguments": {},
       "columnCustomDisplayInfos": {},
       "data": [],
       "datasetInfos": [],
       "dbfsResultPath": null,
       "isJsonSchema": true,
       "metadata": {
        "dataframeName": null
       },
       "overflow": false,
       "plotOptions": {
        "customPlotOptions": {},
        "displayType": "table",
        "pivotAggregation": null,
        "pivotColumns": null,
        "xColumns": null,
        "yColumns": null
       },
       "removedWidgets": [],
       "schema": [],
       "type": "table"
      }
     },
     "output_type": "display_data"
    }
   ],
   "source": [
    "%sql\n",
    "CREATE DATABASE IF NOT EXISTS chinook_dlh\n",
    "COMMENT \"Gunn Final Project Database\"\n",
    "LOCATION \"dbfs:/FileStore/lab_data/chinook_dlh\"\n",
    "WITH DBPROPERTIES (contains_pii = true, purpose = \"Gunn Final Project\");"
   ]
  },
  {
   "cell_type": "code",
   "execution_count": 0,
   "metadata": {
    "application/vnd.databricks.v1+cell": {
     "cellMetadata": {
      "byteLimit": 2048000,
      "implicitDf": true,
      "rowLimit": 10000
     },
     "inputWidgets": {},
     "nuid": "e1c2b5f6-3be5-4573-b355-04b8f65e6a01",
     "showTitle": false,
     "title": ""
    }
   },
   "outputs": [
    {
     "output_type": "display_data",
     "data": {
      "text/html": [
       "<style scoped>\n",
       "  .table-result-container {\n",
       "    max-height: 300px;\n",
       "    overflow: auto;\n",
       "  }\n",
       "  table, th, td {\n",
       "    border: 1px solid black;\n",
       "    border-collapse: collapse;\n",
       "  }\n",
       "  th, td {\n",
       "    padding: 5px;\n",
       "  }\n",
       "  th {\n",
       "    text-align: left;\n",
       "  }\n",
       "</style><div class='table-result-container'><table class='table-result'><thead style='background-color: white'><tr></tr></thead><tbody></tbody></table></div>"
      ]
     },
     "metadata": {
      "application/vnd.databricks.v1+output": {
       "addedWidgets": {},
       "aggData": [],
       "aggError": "",
       "aggOverflow": false,
       "aggSchema": [],
       "aggSeriesLimitReached": false,
       "aggType": "",
       "arguments": {},
       "columnCustomDisplayInfos": {},
       "data": [],
       "datasetInfos": [],
       "dbfsResultPath": null,
       "isJsonSchema": true,
       "metadata": {
        "dataframeName": null
       },
       "overflow": false,
       "plotOptions": {
        "customPlotOptions": {},
        "displayType": "table",
        "pivotAggregation": null,
        "pivotColumns": null,
        "xColumns": null,
        "yColumns": null
       },
       "removedWidgets": [],
       "schema": [],
       "type": "table"
      }
     },
     "output_type": "display_data"
    }
   ],
   "source": [
    "%sql\n",
    "CREATE OR REPLACE TEMPORARY VIEW view_date\n",
    "USING org.apache.spark.sql.jdbc\n",
    "OPTIONS (\n",
    "  url \"jdbc:mysql://rmg7jb.mysql.database.azure.com:3306/chinook_dw\", --Replace with your Server Name\n",
    "  dbtable \"dim_date\",\n",
    "  user \"rmg7jb\",    --Replace with your User Name\n",
    "  password \"Passw0rd123!\"  --Replace with you password\n",
    ")"
   ]
  },
  {
   "cell_type": "code",
   "execution_count": 0,
   "metadata": {
    "application/vnd.databricks.v1+cell": {
     "cellMetadata": {
      "byteLimit": 2048000,
      "implicitDf": true,
      "rowLimit": 10000
     },
     "inputWidgets": {},
     "nuid": "e9411ac6-50d1-4b5f-93db-ea7c1000f92d",
     "showTitle": false,
     "title": ""
    }
   },
   "outputs": [
    {
     "output_type": "display_data",
     "data": {
      "text/html": [
       "<style scoped>\n",
       "  .table-result-container {\n",
       "    max-height: 300px;\n",
       "    overflow: auto;\n",
       "  }\n",
       "  table, th, td {\n",
       "    border: 1px solid black;\n",
       "    border-collapse: collapse;\n",
       "  }\n",
       "  th, td {\n",
       "    padding: 5px;\n",
       "  }\n",
       "  th {\n",
       "    text-align: left;\n",
       "  }\n",
       "</style><div class='table-result-container'><table class='table-result'><thead style='background-color: white'><tr><th>num_affected_rows</th><th>num_inserted_rows</th></tr></thead><tbody></tbody></table></div>"
      ]
     },
     "metadata": {
      "application/vnd.databricks.v1+output": {
       "addedWidgets": {},
       "aggData": [],
       "aggError": "",
       "aggOverflow": false,
       "aggSchema": [],
       "aggSeriesLimitReached": false,
       "aggType": "",
       "arguments": {},
       "columnCustomDisplayInfos": {},
       "data": [],
       "datasetInfos": [],
       "dbfsResultPath": null,
       "isJsonSchema": true,
       "metadata": {
        "dataframeName": "_sqldf",
        "executionCount": 6
       },
       "overflow": false,
       "plotOptions": {
        "customPlotOptions": {},
        "displayType": "table",
        "pivotAggregation": null,
        "pivotColumns": null,
        "xColumns": null,
        "yColumns": null
       },
       "removedWidgets": [],
       "schema": [
        {
         "metadata": "{}",
         "name": "num_affected_rows",
         "type": "\"long\""
        },
        {
         "metadata": "{}",
         "name": "num_inserted_rows",
         "type": "\"long\""
        }
       ],
       "type": "table"
      }
     },
     "output_type": "display_data"
    }
   ],
   "source": [
    "%sql\n",
    "USE DATABASE chinook_dlh;\n",
    "\n",
    "CREATE OR REPLACE TABLE chinook_dlh.dim_date\n",
    "COMMENT \"Date Dimension Table\"\n",
    "LOCATION \"dbfs:/FileStore/lab_data/chinook_dlh/dim_date\"\n",
    "AS SELECT * FROM view_date"
   ]
  },
  {
   "cell_type": "code",
   "execution_count": 0,
   "metadata": {
    "application/vnd.databricks.v1+cell": {
     "cellMetadata": {
      "byteLimit": 2048000,
      "implicitDf": true,
      "rowLimit": 10000
     },
     "inputWidgets": {},
     "nuid": "467a9e6f-3503-4182-ac5d-bf0fd64d5421",
     "showTitle": false,
     "title": ""
    }
   },
   "outputs": [
    {
     "output_type": "display_data",
     "data": {
      "text/html": [
       "<style scoped>\n",
       "  .table-result-container {\n",
       "    max-height: 300px;\n",
       "    overflow: auto;\n",
       "  }\n",
       "  table, th, td {\n",
       "    border: 1px solid black;\n",
       "    border-collapse: collapse;\n",
       "  }\n",
       "  th, td {\n",
       "    padding: 5px;\n",
       "  }\n",
       "  th {\n",
       "    text-align: left;\n",
       "  }\n",
       "</style><div class='table-result-container'><table class='table-result'><thead style='background-color: white'><tr><th>col_name</th><th>data_type</th><th>comment</th></tr></thead><tbody><tr><td>date_key</td><td>int</td><td>null</td></tr><tr><td>full_date</td><td>varchar(65535)</td><td>null</td></tr><tr><td>date_name</td><td>varchar(65535)</td><td>null</td></tr><tr><td>date_name_us</td><td>varchar(65535)</td><td>null</td></tr><tr><td>date_name_eu</td><td>varchar(65535)</td><td>null</td></tr><tr><td>day_of_week</td><td>int</td><td>null</td></tr><tr><td>day_name_of_week</td><td>varchar(65535)</td><td>null</td></tr><tr><td>day_of_month</td><td>int</td><td>null</td></tr><tr><td>day_of_year</td><td>int</td><td>null</td></tr><tr><td>weekday_weekend</td><td>varchar(65535)</td><td>null</td></tr><tr><td>week_of_year</td><td>int</td><td>null</td></tr><tr><td>month_name</td><td>varchar(65535)</td><td>null</td></tr><tr><td>month_of_year</td><td>int</td><td>null</td></tr><tr><td>is_last_day_of_month</td><td>varchar(65535)</td><td>null</td></tr><tr><td>calendar_quarter</td><td>int</td><td>null</td></tr><tr><td>calendar_year</td><td>int</td><td>null</td></tr><tr><td>calendar_year_month</td><td>varchar(65535)</td><td>null</td></tr><tr><td>calendar_year_qtr</td><td>varchar(65535)</td><td>null</td></tr><tr><td>fiscal_month_of_year</td><td>int</td><td>null</td></tr><tr><td>fiscal_quarter</td><td>int</td><td>null</td></tr><tr><td>fiscal_year</td><td>int</td><td>null</td></tr><tr><td>fiscal_year_month</td><td>varchar(65535)</td><td>null</td></tr><tr><td>fiscal_year_qtr</td><td>varchar(65535)</td><td>null</td></tr><tr><td></td><td></td><td></td></tr><tr><td># Delta Statistics Columns</td><td></td><td></td></tr><tr><td>Column Names</td><td>month_of_year, weekday_weekend, date_name_us, day_of_week, date_key, calendar_quarter, calendar_year_month, date_name_eu, date_name, fiscal_quarter, is_last_day_of_month, day_of_month, month_name, calendar_year_qtr, fiscal_year_qtr, full_date, fiscal_year_month, fiscal_month_of_year, calendar_year, day_name_of_week, day_of_year, week_of_year, fiscal_year</td><td></td></tr><tr><td>Column Selection Method</td><td>first-32</td><td></td></tr><tr><td></td><td></td><td></td></tr><tr><td># Detailed Table Information</td><td></td><td></td></tr><tr><td>Catalog</td><td>spark_catalog</td><td></td></tr><tr><td>Database</td><td>chinook_dlh</td><td></td></tr><tr><td>Table</td><td>dim_date</td><td></td></tr><tr><td>Created Time</td><td>Fri May 10 15:09:37 UTC 2024</td><td></td></tr><tr><td>Last Access</td><td>UNKNOWN</td><td></td></tr><tr><td>Created By</td><td>Spark 3.4.1</td><td></td></tr><tr><td>Type</td><td>EXTERNAL</td><td></td></tr><tr><td>Comment</td><td>Date Dimension Table</td><td></td></tr><tr><td>Location</td><td>dbfs:/FileStore/lab_data/chinook_dlh/dim_date</td><td></td></tr><tr><td>Provider</td><td>delta</td><td></td></tr><tr><td>Owner</td><td>root</td><td></td></tr><tr><td>Table Properties</td><td>[delta.minReaderVersion=1,delta.minWriterVersion=2]</td><td></td></tr></tbody></table></div>"
      ]
     },
     "metadata": {
      "application/vnd.databricks.v1+output": {
       "addedWidgets": {},
       "aggData": [],
       "aggError": "",
       "aggOverflow": false,
       "aggSchema": [],
       "aggSeriesLimitReached": false,
       "aggType": "",
       "arguments": {},
       "columnCustomDisplayInfos": {},
       "data": [
        [
         "date_key",
         "int",
         null
        ],
        [
         "full_date",
         "varchar(65535)",
         null
        ],
        [
         "date_name",
         "varchar(65535)",
         null
        ],
        [
         "date_name_us",
         "varchar(65535)",
         null
        ],
        [
         "date_name_eu",
         "varchar(65535)",
         null
        ],
        [
         "day_of_week",
         "int",
         null
        ],
        [
         "day_name_of_week",
         "varchar(65535)",
         null
        ],
        [
         "day_of_month",
         "int",
         null
        ],
        [
         "day_of_year",
         "int",
         null
        ],
        [
         "weekday_weekend",
         "varchar(65535)",
         null
        ],
        [
         "week_of_year",
         "int",
         null
        ],
        [
         "month_name",
         "varchar(65535)",
         null
        ],
        [
         "month_of_year",
         "int",
         null
        ],
        [
         "is_last_day_of_month",
         "varchar(65535)",
         null
        ],
        [
         "calendar_quarter",
         "int",
         null
        ],
        [
         "calendar_year",
         "int",
         null
        ],
        [
         "calendar_year_month",
         "varchar(65535)",
         null
        ],
        [
         "calendar_year_qtr",
         "varchar(65535)",
         null
        ],
        [
         "fiscal_month_of_year",
         "int",
         null
        ],
        [
         "fiscal_quarter",
         "int",
         null
        ],
        [
         "fiscal_year",
         "int",
         null
        ],
        [
         "fiscal_year_month",
         "varchar(65535)",
         null
        ],
        [
         "fiscal_year_qtr",
         "varchar(65535)",
         null
        ],
        [
         "",
         "",
         ""
        ],
        [
         "# Delta Statistics Columns",
         "",
         ""
        ],
        [
         "Column Names",
         "month_of_year, weekday_weekend, date_name_us, day_of_week, date_key, calendar_quarter, calendar_year_month, date_name_eu, date_name, fiscal_quarter, is_last_day_of_month, day_of_month, month_name, calendar_year_qtr, fiscal_year_qtr, full_date, fiscal_year_month, fiscal_month_of_year, calendar_year, day_name_of_week, day_of_year, week_of_year, fiscal_year",
         ""
        ],
        [
         "Column Selection Method",
         "first-32",
         ""
        ],
        [
         "",
         "",
         ""
        ],
        [
         "# Detailed Table Information",
         "",
         ""
        ],
        [
         "Catalog",
         "spark_catalog",
         ""
        ],
        [
         "Database",
         "chinook_dlh",
         ""
        ],
        [
         "Table",
         "dim_date",
         ""
        ],
        [
         "Created Time",
         "Fri May 10 15:09:37 UTC 2024",
         ""
        ],
        [
         "Last Access",
         "UNKNOWN",
         ""
        ],
        [
         "Created By",
         "Spark 3.4.1",
         ""
        ],
        [
         "Type",
         "EXTERNAL",
         ""
        ],
        [
         "Comment",
         "Date Dimension Table",
         ""
        ],
        [
         "Location",
         "dbfs:/FileStore/lab_data/chinook_dlh/dim_date",
         ""
        ],
        [
         "Provider",
         "delta",
         ""
        ],
        [
         "Owner",
         "root",
         ""
        ],
        [
         "Table Properties",
         "[delta.minReaderVersion=1,delta.minWriterVersion=2]",
         ""
        ]
       ],
       "datasetInfos": [],
       "dbfsResultPath": null,
       "isJsonSchema": true,
       "metadata": {
        "dataframeName": "_sqldf",
        "executionCount": 7
       },
       "overflow": false,
       "plotOptions": {
        "customPlotOptions": {},
        "displayType": "table",
        "pivotAggregation": null,
        "pivotColumns": null,
        "xColumns": null,
        "yColumns": null
       },
       "removedWidgets": [],
       "schema": [
        {
         "metadata": "{\"comment\":\"name of the column\"}",
         "name": "col_name",
         "type": "\"string\""
        },
        {
         "metadata": "{\"comment\":\"data type of the column\"}",
         "name": "data_type",
         "type": "\"string\""
        },
        {
         "metadata": "{\"comment\":\"comment of the column\"}",
         "name": "comment",
         "type": "\"string\""
        }
       ],
       "type": "table"
      }
     },
     "output_type": "display_data"
    }
   ],
   "source": [
    "%sql\n",
    "DESCRIBE EXTENDED chinook_dlh.dim_date;"
   ]
  },
  {
   "cell_type": "code",
   "execution_count": 0,
   "metadata": {
    "application/vnd.databricks.v1+cell": {
     "cellMetadata": {
      "byteLimit": 2048000,
      "implicitDf": true,
      "rowLimit": 10000
     },
     "inputWidgets": {},
     "nuid": "daf5b162-442e-4194-a773-78a9d81ecdbd",
     "showTitle": false,
     "title": ""
    }
   },
   "outputs": [
    {
     "output_type": "display_data",
     "data": {
      "text/html": [
       "<style scoped>\n",
       "  .table-result-container {\n",
       "    max-height: 300px;\n",
       "    overflow: auto;\n",
       "  }\n",
       "  table, th, td {\n",
       "    border: 1px solid black;\n",
       "    border-collapse: collapse;\n",
       "  }\n",
       "  th, td {\n",
       "    padding: 5px;\n",
       "  }\n",
       "  th {\n",
       "    text-align: left;\n",
       "  }\n",
       "</style><div class='table-result-container'><table class='table-result'><thead style='background-color: white'><tr><th>date_key</th><th>full_date</th><th>date_name</th><th>date_name_us</th><th>date_name_eu</th><th>day_of_week</th><th>day_name_of_week</th><th>day_of_month</th><th>day_of_year</th><th>weekday_weekend</th><th>week_of_year</th><th>month_name</th><th>month_of_year</th><th>is_last_day_of_month</th><th>calendar_quarter</th><th>calendar_year</th><th>calendar_year_month</th><th>calendar_year_qtr</th><th>fiscal_month_of_year</th><th>fiscal_quarter</th><th>fiscal_year</th><th>fiscal_year_month</th><th>fiscal_year_qtr</th></tr></thead><tbody><tr><td>20000101</td><td>2000-01-01</td><td>2000/01/01</td><td>01/01/2000</td><td>01/01/2000</td><td>7</td><td>Saturday</td><td>1</td><td>1</td><td>Weekend</td><td>52</td><td>January</td><td>1</td><td>N</td><td>1</td><td>2000</td><td>2000-01</td><td>2000Q1</td><td>7</td><td>3</td><td>2000</td><td>2000-07</td><td>2000Q3</td></tr><tr><td>20000102</td><td>2000-01-02</td><td>2000/01/02</td><td>01/02/2000</td><td>02/01/2000</td><td>1</td><td>Sunday</td><td>2</td><td>2</td><td>Weekend</td><td>52</td><td>January</td><td>1</td><td>N</td><td>1</td><td>2000</td><td>2000-01</td><td>2000Q1</td><td>7</td><td>3</td><td>2000</td><td>2000-07</td><td>2000Q3</td></tr><tr><td>20000103</td><td>2000-01-03</td><td>2000/01/03</td><td>01/03/2000</td><td>03/01/2000</td><td>2</td><td>Monday</td><td>3</td><td>3</td><td>Weekday</td><td>1</td><td>January</td><td>1</td><td>N</td><td>1</td><td>2000</td><td>2000-01</td><td>2000Q1</td><td>7</td><td>3</td><td>2000</td><td>2000-07</td><td>2000Q3</td></tr><tr><td>20000104</td><td>2000-01-04</td><td>2000/01/04</td><td>01/04/2000</td><td>04/01/2000</td><td>3</td><td>Tuesday</td><td>4</td><td>4</td><td>Weekday</td><td>1</td><td>January</td><td>1</td><td>N</td><td>1</td><td>2000</td><td>2000-01</td><td>2000Q1</td><td>7</td><td>3</td><td>2000</td><td>2000-07</td><td>2000Q3</td></tr><tr><td>20000105</td><td>2000-01-05</td><td>2000/01/05</td><td>01/05/2000</td><td>05/01/2000</td><td>4</td><td>Wednesday</td><td>5</td><td>5</td><td>Weekday</td><td>1</td><td>January</td><td>1</td><td>N</td><td>1</td><td>2000</td><td>2000-01</td><td>2000Q1</td><td>7</td><td>3</td><td>2000</td><td>2000-07</td><td>2000Q3</td></tr></tbody></table></div>"
      ]
     },
     "metadata": {
      "application/vnd.databricks.v1+output": {
       "addedWidgets": {},
       "aggData": [],
       "aggError": "",
       "aggOverflow": false,
       "aggSchema": [],
       "aggSeriesLimitReached": false,
       "aggType": "",
       "arguments": {},
       "columnCustomDisplayInfos": {},
       "data": [
        [
         20000101,
         "2000-01-01",
         "2000/01/01",
         "01/01/2000",
         "01/01/2000",
         7,
         "Saturday",
         1,
         1,
         "Weekend",
         52,
         "January",
         1,
         "N",
         1,
         2000,
         "2000-01",
         "2000Q1",
         7,
         3,
         2000,
         "2000-07",
         "2000Q3"
        ],
        [
         20000102,
         "2000-01-02",
         "2000/01/02",
         "01/02/2000",
         "02/01/2000",
         1,
         "Sunday",
         2,
         2,
         "Weekend",
         52,
         "January",
         1,
         "N",
         1,
         2000,
         "2000-01",
         "2000Q1",
         7,
         3,
         2000,
         "2000-07",
         "2000Q3"
        ],
        [
         20000103,
         "2000-01-03",
         "2000/01/03",
         "01/03/2000",
         "03/01/2000",
         2,
         "Monday",
         3,
         3,
         "Weekday",
         1,
         "January",
         1,
         "N",
         1,
         2000,
         "2000-01",
         "2000Q1",
         7,
         3,
         2000,
         "2000-07",
         "2000Q3"
        ],
        [
         20000104,
         "2000-01-04",
         "2000/01/04",
         "01/04/2000",
         "04/01/2000",
         3,
         "Tuesday",
         4,
         4,
         "Weekday",
         1,
         "January",
         1,
         "N",
         1,
         2000,
         "2000-01",
         "2000Q1",
         7,
         3,
         2000,
         "2000-07",
         "2000Q3"
        ],
        [
         20000105,
         "2000-01-05",
         "2000/01/05",
         "01/05/2000",
         "05/01/2000",
         4,
         "Wednesday",
         5,
         5,
         "Weekday",
         1,
         "January",
         1,
         "N",
         1,
         2000,
         "2000-01",
         "2000Q1",
         7,
         3,
         2000,
         "2000-07",
         "2000Q3"
        ]
       ],
       "datasetInfos": [],
       "dbfsResultPath": null,
       "isJsonSchema": true,
       "metadata": {
        "dataframeName": "_sqldf",
        "executionCount": 8
       },
       "overflow": false,
       "plotOptions": {
        "customPlotOptions": {},
        "displayType": "table",
        "pivotAggregation": null,
        "pivotColumns": null,
        "xColumns": null,
        "yColumns": null
       },
       "removedWidgets": [],
       "schema": [
        {
         "metadata": "{\"scale\":0}",
         "name": "date_key",
         "type": "\"integer\""
        },
        {
         "metadata": "{\"__CHAR_VARCHAR_TYPE_STRING\":\"varchar(65535)\",\"scale\":0}",
         "name": "full_date",
         "type": "\"string\""
        },
        {
         "metadata": "{\"__CHAR_VARCHAR_TYPE_STRING\":\"varchar(65535)\",\"scale\":0}",
         "name": "date_name",
         "type": "\"string\""
        },
        {
         "metadata": "{\"__CHAR_VARCHAR_TYPE_STRING\":\"varchar(65535)\",\"scale\":0}",
         "name": "date_name_us",
         "type": "\"string\""
        },
        {
         "metadata": "{\"__CHAR_VARCHAR_TYPE_STRING\":\"varchar(65535)\",\"scale\":0}",
         "name": "date_name_eu",
         "type": "\"string\""
        },
        {
         "metadata": "{\"scale\":0}",
         "name": "day_of_week",
         "type": "\"integer\""
        },
        {
         "metadata": "{\"__CHAR_VARCHAR_TYPE_STRING\":\"varchar(65535)\",\"scale\":0}",
         "name": "day_name_of_week",
         "type": "\"string\""
        },
        {
         "metadata": "{\"scale\":0}",
         "name": "day_of_month",
         "type": "\"integer\""
        },
        {
         "metadata": "{\"scale\":0}",
         "name": "day_of_year",
         "type": "\"integer\""
        },
        {
         "metadata": "{\"__CHAR_VARCHAR_TYPE_STRING\":\"varchar(65535)\",\"scale\":0}",
         "name": "weekday_weekend",
         "type": "\"string\""
        },
        {
         "metadata": "{\"scale\":0}",
         "name": "week_of_year",
         "type": "\"integer\""
        },
        {
         "metadata": "{\"__CHAR_VARCHAR_TYPE_STRING\":\"varchar(65535)\",\"scale\":0}",
         "name": "month_name",
         "type": "\"string\""
        },
        {
         "metadata": "{\"scale\":0}",
         "name": "month_of_year",
         "type": "\"integer\""
        },
        {
         "metadata": "{\"__CHAR_VARCHAR_TYPE_STRING\":\"varchar(65535)\",\"scale\":0}",
         "name": "is_last_day_of_month",
         "type": "\"string\""
        },
        {
         "metadata": "{\"scale\":0}",
         "name": "calendar_quarter",
         "type": "\"integer\""
        },
        {
         "metadata": "{\"scale\":0}",
         "name": "calendar_year",
         "type": "\"integer\""
        },
        {
         "metadata": "{\"__CHAR_VARCHAR_TYPE_STRING\":\"varchar(65535)\",\"scale\":0}",
         "name": "calendar_year_month",
         "type": "\"string\""
        },
        {
         "metadata": "{\"__CHAR_VARCHAR_TYPE_STRING\":\"varchar(65535)\",\"scale\":0}",
         "name": "calendar_year_qtr",
         "type": "\"string\""
        },
        {
         "metadata": "{\"scale\":0}",
         "name": "fiscal_month_of_year",
         "type": "\"integer\""
        },
        {
         "metadata": "{\"scale\":0}",
         "name": "fiscal_quarter",
         "type": "\"integer\""
        },
        {
         "metadata": "{\"scale\":0}",
         "name": "fiscal_year",
         "type": "\"integer\""
        },
        {
         "metadata": "{\"__CHAR_VARCHAR_TYPE_STRING\":\"varchar(65535)\",\"scale\":0}",
         "name": "fiscal_year_month",
         "type": "\"string\""
        },
        {
         "metadata": "{\"__CHAR_VARCHAR_TYPE_STRING\":\"varchar(65535)\",\"scale\":0}",
         "name": "fiscal_year_qtr",
         "type": "\"string\""
        }
       ],
       "type": "table"
      }
     },
     "output_type": "display_data"
    }
   ],
   "source": [
    "%sql\n",
    "SELECT * FROM chinook_dlh.dim_date LIMIT 5"
   ]
  },
  {
   "cell_type": "code",
   "execution_count": 0,
   "metadata": {
    "application/vnd.databricks.v1+cell": {
     "cellMetadata": {
      "byteLimit": 2048000,
      "implicitDf": true,
      "rowLimit": 10000
     },
     "inputWidgets": {},
     "nuid": "9c605fc0-2771-4d00-bcfa-57985cb62aa7",
     "showTitle": false,
     "title": ""
    }
   },
   "outputs": [
    {
     "output_type": "display_data",
     "data": {
      "text/html": [
       "<style scoped>\n",
       "  .table-result-container {\n",
       "    max-height: 300px;\n",
       "    overflow: auto;\n",
       "  }\n",
       "  table, th, td {\n",
       "    border: 1px solid black;\n",
       "    border-collapse: collapse;\n",
       "  }\n",
       "  th, td {\n",
       "    padding: 5px;\n",
       "  }\n",
       "  th {\n",
       "    text-align: left;\n",
       "  }\n",
       "</style><div class='table-result-container'><table class='table-result'><thead style='background-color: white'><tr></tr></thead><tbody></tbody></table></div>"
      ]
     },
     "metadata": {
      "application/vnd.databricks.v1+output": {
       "addedWidgets": {},
       "aggData": [],
       "aggError": "",
       "aggOverflow": false,
       "aggSchema": [],
       "aggSeriesLimitReached": false,
       "aggType": "",
       "arguments": {},
       "columnCustomDisplayInfos": {},
       "data": [],
       "datasetInfos": [],
       "dbfsResultPath": null,
       "isJsonSchema": true,
       "metadata": {
        "dataframeName": null
       },
       "overflow": false,
       "plotOptions": {
        "customPlotOptions": {},
        "displayType": "table",
        "pivotAggregation": null,
        "pivotColumns": null,
        "xColumns": null,
        "yColumns": null
       },
       "removedWidgets": [],
       "schema": [],
       "type": "table"
      }
     },
     "output_type": "display_data"
    }
   ],
   "source": [
    "%sql\n",
    "-- Create a Temporary View named \"view_tracks\"\n",
    "CREATE OR REPLACE TEMPORARY VIEW view_tracks\n",
    "USING org.apache.spark.sql.jdbc\n",
    "OPTIONS (\n",
    "  url \"jdbc:mysql://rmg7jb.mysql.database.azure.com:3306/chinook_dw\", --Replace with your Server Name\n",
    "  dbtable \"dim_tracks\",\n",
    "  user \"rmg7jb\",    --Replace with your User Name\n",
    "  password \"Passw0rd123!\"  --Replace with you password\n",
    ")\n"
   ]
  },
  {
   "cell_type": "code",
   "execution_count": 0,
   "metadata": {
    "application/vnd.databricks.v1+cell": {
     "cellMetadata": {
      "byteLimit": 2048000,
      "implicitDf": true,
      "rowLimit": 10000
     },
     "inputWidgets": {},
     "nuid": "4c39b328-f743-4b76-afbf-9c9accf05174",
     "showTitle": false,
     "title": ""
    }
   },
   "outputs": [
    {
     "output_type": "display_data",
     "data": {
      "text/html": [
       "<style scoped>\n",
       "  .table-result-container {\n",
       "    max-height: 300px;\n",
       "    overflow: auto;\n",
       "  }\n",
       "  table, th, td {\n",
       "    border: 1px solid black;\n",
       "    border-collapse: collapse;\n",
       "  }\n",
       "  th, td {\n",
       "    padding: 5px;\n",
       "  }\n",
       "  th {\n",
       "    text-align: left;\n",
       "  }\n",
       "</style><div class='table-result-container'><table class='table-result'><thead style='background-color: white'><tr><th>num_affected_rows</th><th>num_inserted_rows</th></tr></thead><tbody></tbody></table></div>"
      ]
     },
     "metadata": {
      "application/vnd.databricks.v1+output": {
       "addedWidgets": {},
       "aggData": [],
       "aggError": "",
       "aggOverflow": false,
       "aggSchema": [],
       "aggSeriesLimitReached": false,
       "aggType": "",
       "arguments": {},
       "columnCustomDisplayInfos": {},
       "data": [],
       "datasetInfos": [],
       "dbfsResultPath": null,
       "isJsonSchema": true,
       "metadata": {
        "dataframeName": "_sqldf",
        "executionCount": 9
       },
       "overflow": false,
       "plotOptions": {
        "customPlotOptions": {},
        "displayType": "table",
        "pivotAggregation": null,
        "pivotColumns": null,
        "xColumns": null,
        "yColumns": null
       },
       "removedWidgets": [],
       "schema": [
        {
         "metadata": "{}",
         "name": "num_affected_rows",
         "type": "\"long\""
        },
        {
         "metadata": "{}",
         "name": "num_inserted_rows",
         "type": "\"long\""
        }
       ],
       "type": "table"
      }
     },
     "output_type": "display_data"
    }
   ],
   "source": [
    "%sql\n",
    "USE DATABASE chinook_dlh;\n",
    "-- Create a new table named \"chinook_dlh.dim_tracks\" using data from the view named \"view_tracks\"\n",
    "CREATE OR REPLACE TABLE chinook_dlh.dim_tracks\n",
    "COMMENT \"Tracks Dimension Table\"\n",
    "LOCATION \"dbfs:/FileStore/lab_data/chinook_dlh/dim_tracks\"\n",
    "AS SELECT * FROM view_tracks"
   ]
  },
  {
   "cell_type": "code",
   "execution_count": 0,
   "metadata": {
    "application/vnd.databricks.v1+cell": {
     "cellMetadata": {
      "byteLimit": 2048000,
      "implicitDf": true,
      "rowLimit": 10000
     },
     "inputWidgets": {},
     "nuid": "fbc83308-fbd4-42c2-8575-f21a2887da79",
     "showTitle": false,
     "title": ""
    }
   },
   "outputs": [
    {
     "output_type": "display_data",
     "data": {
      "text/html": [
       "<style scoped>\n",
       "  .table-result-container {\n",
       "    max-height: 300px;\n",
       "    overflow: auto;\n",
       "  }\n",
       "  table, th, td {\n",
       "    border: 1px solid black;\n",
       "    border-collapse: collapse;\n",
       "  }\n",
       "  th, td {\n",
       "    padding: 5px;\n",
       "  }\n",
       "  th {\n",
       "    text-align: left;\n",
       "  }\n",
       "</style><div class='table-result-container'><table class='table-result'><thead style='background-color: white'><tr><th>col_name</th><th>data_type</th><th>comment</th></tr></thead><tbody><tr><td>track_key</td><td>bigint</td><td>null</td></tr><tr><td>track_id</td><td>bigint</td><td>null</td></tr><tr><td>Name</td><td>varchar(65535)</td><td>null</td></tr><tr><td>album_id</td><td>bigint</td><td>null</td></tr><tr><td>media_type_id</td><td>bigint</td><td>null</td></tr><tr><td>genre_id</td><td>bigint</td><td>null</td></tr><tr><td>Composer</td><td>varchar(65535)</td><td>null</td></tr><tr><td>Milliseconds</td><td>bigint</td><td>null</td></tr><tr><td>Bytes</td><td>bigint</td><td>null</td></tr><tr><td>UnitPrice</td><td>double</td><td>null</td></tr><tr><td></td><td></td><td></td></tr><tr><td># Delta Statistics Columns</td><td></td><td></td></tr><tr><td>Column Names</td><td>UnitPrice, Name, track_id, Bytes, Composer, Milliseconds, album_id, track_key, media_type_id, genre_id</td><td></td></tr><tr><td>Column Selection Method</td><td>first-32</td><td></td></tr><tr><td></td><td></td><td></td></tr><tr><td># Detailed Table Information</td><td></td><td></td></tr><tr><td>Catalog</td><td>spark_catalog</td><td></td></tr><tr><td>Database</td><td>chinook_dlh</td><td></td></tr><tr><td>Table</td><td>dim_tracks</td><td></td></tr><tr><td>Created Time</td><td>Fri May 10 15:10:27 UTC 2024</td><td></td></tr><tr><td>Last Access</td><td>UNKNOWN</td><td></td></tr><tr><td>Created By</td><td>Spark 3.4.1</td><td></td></tr><tr><td>Type</td><td>EXTERNAL</td><td></td></tr><tr><td>Comment</td><td>Tracks Dimension Table</td><td></td></tr><tr><td>Location</td><td>dbfs:/FileStore/lab_data/chinook_dlh/dim_tracks</td><td></td></tr><tr><td>Provider</td><td>delta</td><td></td></tr><tr><td>Owner</td><td>root</td><td></td></tr><tr><td>Table Properties</td><td>[delta.minReaderVersion=1,delta.minWriterVersion=2]</td><td></td></tr></tbody></table></div>"
      ]
     },
     "metadata": {
      "application/vnd.databricks.v1+output": {
       "addedWidgets": {},
       "aggData": [],
       "aggError": "",
       "aggOverflow": false,
       "aggSchema": [],
       "aggSeriesLimitReached": false,
       "aggType": "",
       "arguments": {},
       "columnCustomDisplayInfos": {},
       "data": [
        [
         "track_key",
         "bigint",
         null
        ],
        [
         "track_id",
         "bigint",
         null
        ],
        [
         "Name",
         "varchar(65535)",
         null
        ],
        [
         "album_id",
         "bigint",
         null
        ],
        [
         "media_type_id",
         "bigint",
         null
        ],
        [
         "genre_id",
         "bigint",
         null
        ],
        [
         "Composer",
         "varchar(65535)",
         null
        ],
        [
         "Milliseconds",
         "bigint",
         null
        ],
        [
         "Bytes",
         "bigint",
         null
        ],
        [
         "UnitPrice",
         "double",
         null
        ],
        [
         "",
         "",
         ""
        ],
        [
         "# Delta Statistics Columns",
         "",
         ""
        ],
        [
         "Column Names",
         "UnitPrice, Name, track_id, Bytes, Composer, Milliseconds, album_id, track_key, media_type_id, genre_id",
         ""
        ],
        [
         "Column Selection Method",
         "first-32",
         ""
        ],
        [
         "",
         "",
         ""
        ],
        [
         "# Detailed Table Information",
         "",
         ""
        ],
        [
         "Catalog",
         "spark_catalog",
         ""
        ],
        [
         "Database",
         "chinook_dlh",
         ""
        ],
        [
         "Table",
         "dim_tracks",
         ""
        ],
        [
         "Created Time",
         "Fri May 10 15:10:27 UTC 2024",
         ""
        ],
        [
         "Last Access",
         "UNKNOWN",
         ""
        ],
        [
         "Created By",
         "Spark 3.4.1",
         ""
        ],
        [
         "Type",
         "EXTERNAL",
         ""
        ],
        [
         "Comment",
         "Tracks Dimension Table",
         ""
        ],
        [
         "Location",
         "dbfs:/FileStore/lab_data/chinook_dlh/dim_tracks",
         ""
        ],
        [
         "Provider",
         "delta",
         ""
        ],
        [
         "Owner",
         "root",
         ""
        ],
        [
         "Table Properties",
         "[delta.minReaderVersion=1,delta.minWriterVersion=2]",
         ""
        ]
       ],
       "datasetInfos": [],
       "dbfsResultPath": null,
       "isJsonSchema": true,
       "metadata": {
        "dataframeName": "_sqldf",
        "executionCount": 10
       },
       "overflow": false,
       "plotOptions": {
        "customPlotOptions": {},
        "displayType": "table",
        "pivotAggregation": null,
        "pivotColumns": null,
        "xColumns": null,
        "yColumns": null
       },
       "removedWidgets": [],
       "schema": [
        {
         "metadata": "{\"comment\":\"name of the column\"}",
         "name": "col_name",
         "type": "\"string\""
        },
        {
         "metadata": "{\"comment\":\"data type of the column\"}",
         "name": "data_type",
         "type": "\"string\""
        },
        {
         "metadata": "{\"comment\":\"comment of the column\"}",
         "name": "comment",
         "type": "\"string\""
        }
       ],
       "type": "table"
      }
     },
     "output_type": "display_data"
    }
   ],
   "source": [
    "%sql\n",
    "DESCRIBE EXTENDED chinook_dlh.dim_tracks;"
   ]
  },
  {
   "cell_type": "code",
   "execution_count": 0,
   "metadata": {
    "application/vnd.databricks.v1+cell": {
     "cellMetadata": {
      "byteLimit": 2048000,
      "rowLimit": 10000
     },
     "inputWidgets": {},
     "nuid": "b4bf3e21-4e72-46d4-a5b7-1b09f54d5d0b",
     "showTitle": false,
     "title": ""
    }
   },
   "outputs": [
    {
     "output_type": "display_data",
     "data": {
      "text/html": [
       "<style scoped>\n",
       "  .table-result-container {\n",
       "    max-height: 300px;\n",
       "    overflow: auto;\n",
       "  }\n",
       "  table, th, td {\n",
       "    border: 1px solid black;\n",
       "    border-collapse: collapse;\n",
       "  }\n",
       "  th, td {\n",
       "    padding: 5px;\n",
       "  }\n",
       "  th {\n",
       "    text-align: left;\n",
       "  }\n",
       "</style><div class='table-result-container'><table class='table-result'><thead style='background-color: white'><tr><th>GenreId</th><th>Name</th><th>_id</th></tr></thead><tbody><tr><td>1</td><td>Rock</td><td>List(663d5b14c7bc0a91ded908fc)</td></tr><tr><td>2</td><td>Jazz</td><td>List(663d5b14c7bc0a91ded908fd)</td></tr><tr><td>3</td><td>Metal</td><td>List(663d5b14c7bc0a91ded908fe)</td></tr><tr><td>4</td><td>Alternative & Punk</td><td>List(663d5b14c7bc0a91ded908ff)</td></tr><tr><td>5</td><td>Rock And Roll</td><td>List(663d5b14c7bc0a91ded90900)</td></tr><tr><td>6</td><td>Blues</td><td>List(663d5b14c7bc0a91ded90901)</td></tr><tr><td>7</td><td>Latin</td><td>List(663d5b14c7bc0a91ded90902)</td></tr><tr><td>8</td><td>Reggae</td><td>List(663d5b14c7bc0a91ded90903)</td></tr><tr><td>9</td><td>Pop</td><td>List(663d5b14c7bc0a91ded90904)</td></tr><tr><td>10</td><td>Soundtrack</td><td>List(663d5b14c7bc0a91ded90905)</td></tr><tr><td>11</td><td>Bossa Nova</td><td>List(663d5b14c7bc0a91ded90906)</td></tr><tr><td>12</td><td>Easy Listening</td><td>List(663d5b14c7bc0a91ded90907)</td></tr><tr><td>13</td><td>Heavy Metal</td><td>List(663d5b14c7bc0a91ded90908)</td></tr><tr><td>14</td><td>R&B/Soul</td><td>List(663d5b14c7bc0a91ded90909)</td></tr><tr><td>15</td><td>Electronica/Dance</td><td>List(663d5b14c7bc0a91ded9090a)</td></tr><tr><td>16</td><td>World</td><td>List(663d5b14c7bc0a91ded9090b)</td></tr><tr><td>17</td><td>Hip Hop/Rap</td><td>List(663d5b14c7bc0a91ded9090c)</td></tr><tr><td>18</td><td>Science Fiction</td><td>List(663d5b14c7bc0a91ded9090d)</td></tr><tr><td>19</td><td>TV Shows</td><td>List(663d5b14c7bc0a91ded9090e)</td></tr><tr><td>20</td><td>Sci Fi & Fantasy</td><td>List(663d5b14c7bc0a91ded9090f)</td></tr><tr><td>21</td><td>Drama</td><td>List(663d5b14c7bc0a91ded90910)</td></tr><tr><td>22</td><td>Comedy</td><td>List(663d5b14c7bc0a91ded90911)</td></tr><tr><td>23</td><td>Alternative</td><td>List(663d5b14c7bc0a91ded90912)</td></tr><tr><td>24</td><td>Classical</td><td>List(663d5b14c7bc0a91ded90913)</td></tr><tr><td>25</td><td>Opera</td><td>List(663d5b14c7bc0a91ded90914)</td></tr></tbody></table></div>"
      ]
     },
     "metadata": {
      "application/vnd.databricks.v1+output": {
       "addedWidgets": {},
       "aggData": [],
       "aggError": "",
       "aggOverflow": false,
       "aggSchema": [],
       "aggSeriesLimitReached": false,
       "aggType": "",
       "arguments": {},
       "columnCustomDisplayInfos": {},
       "data": [
        [
         1,
         "Rock",
         [
          "663d5b14c7bc0a91ded908fc"
         ]
        ],
        [
         2,
         "Jazz",
         [
          "663d5b14c7bc0a91ded908fd"
         ]
        ],
        [
         3,
         "Metal",
         [
          "663d5b14c7bc0a91ded908fe"
         ]
        ],
        [
         4,
         "Alternative & Punk",
         [
          "663d5b14c7bc0a91ded908ff"
         ]
        ],
        [
         5,
         "Rock And Roll",
         [
          "663d5b14c7bc0a91ded90900"
         ]
        ],
        [
         6,
         "Blues",
         [
          "663d5b14c7bc0a91ded90901"
         ]
        ],
        [
         7,
         "Latin",
         [
          "663d5b14c7bc0a91ded90902"
         ]
        ],
        [
         8,
         "Reggae",
         [
          "663d5b14c7bc0a91ded90903"
         ]
        ],
        [
         9,
         "Pop",
         [
          "663d5b14c7bc0a91ded90904"
         ]
        ],
        [
         10,
         "Soundtrack",
         [
          "663d5b14c7bc0a91ded90905"
         ]
        ],
        [
         11,
         "Bossa Nova",
         [
          "663d5b14c7bc0a91ded90906"
         ]
        ],
        [
         12,
         "Easy Listening",
         [
          "663d5b14c7bc0a91ded90907"
         ]
        ],
        [
         13,
         "Heavy Metal",
         [
          "663d5b14c7bc0a91ded90908"
         ]
        ],
        [
         14,
         "R&B/Soul",
         [
          "663d5b14c7bc0a91ded90909"
         ]
        ],
        [
         15,
         "Electronica/Dance",
         [
          "663d5b14c7bc0a91ded9090a"
         ]
        ],
        [
         16,
         "World",
         [
          "663d5b14c7bc0a91ded9090b"
         ]
        ],
        [
         17,
         "Hip Hop/Rap",
         [
          "663d5b14c7bc0a91ded9090c"
         ]
        ],
        [
         18,
         "Science Fiction",
         [
          "663d5b14c7bc0a91ded9090d"
         ]
        ],
        [
         19,
         "TV Shows",
         [
          "663d5b14c7bc0a91ded9090e"
         ]
        ],
        [
         20,
         "Sci Fi & Fantasy",
         [
          "663d5b14c7bc0a91ded9090f"
         ]
        ],
        [
         21,
         "Drama",
         [
          "663d5b14c7bc0a91ded90910"
         ]
        ],
        [
         22,
         "Comedy",
         [
          "663d5b14c7bc0a91ded90911"
         ]
        ],
        [
         23,
         "Alternative",
         [
          "663d5b14c7bc0a91ded90912"
         ]
        ],
        [
         24,
         "Classical",
         [
          "663d5b14c7bc0a91ded90913"
         ]
        ],
        [
         25,
         "Opera",
         [
          "663d5b14c7bc0a91ded90914"
         ]
        ]
       ],
       "datasetInfos": [
        {
         "name": "df_genre",
         "schema": {
          "fields": [
           {
            "metadata": {},
            "name": "GenreId",
            "nullable": true,
            "type": "integer"
           },
           {
            "metadata": {},
            "name": "Name",
            "nullable": true,
            "type": "string"
           },
           {
            "metadata": {},
            "name": "_id",
            "nullable": true,
            "type": {
             "fields": [
              {
               "metadata": {},
               "name": "oid",
               "nullable": true,
               "type": "string"
              }
             ],
             "type": "struct"
            }
           }
          ],
          "type": "struct"
         },
         "tableIdentifier": null,
         "typeStr": "org.apache.spark.sql.DataFrame"
        }
       ],
       "dbfsResultPath": null,
       "isJsonSchema": true,
       "metadata": {
        "isDbfsCommandResult": false
       },
       "overflow": false,
       "plotOptions": {
        "customPlotOptions": {},
        "displayType": "table",
        "pivotAggregation": null,
        "pivotColumns": null,
        "xColumns": null,
        "yColumns": null
       },
       "removedWidgets": [],
       "schema": [
        {
         "metadata": "{}",
         "name": "GenreId",
         "type": "\"integer\""
        },
        {
         "metadata": "{}",
         "name": "Name",
         "type": "\"string\""
        },
        {
         "metadata": "{}",
         "name": "_id",
         "type": "{\"type\":\"struct\",\"fields\":[{\"name\":\"oid\",\"type\":\"string\",\"nullable\":true,\"metadata\":{}}]}"
        }
       ],
       "type": "table"
      }
     },
     "output_type": "display_data"
    }
   ],
   "source": [
    "%scala\n",
    "import com.mongodb.spark._\n",
    "\n",
    "val userName = \"rmg7jb\"\n",
    "val pwd = \"Passw0rd123\"\n",
    "val clusterName = \"cluster0.6kd78gj\"\n",
    "val atlas_uri = s\"mongodb+srv://$userName:$pwd@$clusterName.mongodb.net/?retryWrites=true&w=majority\"\n",
    "val df_genre = spark.read.format(\"com.mongodb.spark.sql.DefaultSource\")\n",
    ".option(\"spark.mongodb.input.uri\", atlas_uri)\n",
    ".option(\"database\", \"Chinook\")\n",
    ".option(\"collection\", \"genre\").load()\n",
    "display(df_genre)"
   ]
  },
  {
   "cell_type": "code",
   "execution_count": 0,
   "metadata": {
    "application/vnd.databricks.v1+cell": {
     "cellMetadata": {
      "byteLimit": 2048000,
      "rowLimit": 10000
     },
     "inputWidgets": {},
     "nuid": "e5fe7e50-aec6-4ce1-9871-4eb958d7ceca",
     "showTitle": false,
     "title": ""
    }
   },
   "outputs": [
    {
     "output_type": "display_data",
     "data": {
      "text/html": [
       "<style scoped>\n",
       "  .ansiout {\n",
       "    display: block;\n",
       "    unicode-bidi: embed;\n",
       "    white-space: pre-wrap;\n",
       "    word-wrap: break-word;\n",
       "    word-break: break-all;\n",
       "    font-family: \"Menlo\", \"Monaco\", \"Consolas\", \"Ubuntu Mono\", \"Source Code Pro\", monospace;\n",
       "    font-size: 13px;\n",
       "    color: #555;\n",
       "    margin-left: 4px;\n",
       "    line-height: 19px;\n",
       "  }\n",
       "</style>\n",
       "<div class=\"ansiout\"></div>"
      ]
     },
     "metadata": {
      "application/vnd.databricks.v1+output": {
       "addedWidgets": {},
       "arguments": {},
       "data": "<div class=\"ansiout\"></div>",
       "datasetInfos": [],
       "metadata": {
        "isDbfsCommandResult": false
       },
       "removedWidgets": [],
       "type": "html"
      }
     },
     "output_type": "display_data"
    }
   ],
   "source": [
    "%scala\n",
    "df_genre.write.format(\"delta\").mode(\"overwrite\").saveAsTable(\"chinook_dlh.dim_genre\")"
   ]
  },
  {
   "cell_type": "code",
   "execution_count": 0,
   "metadata": {
    "application/vnd.databricks.v1+cell": {
     "cellMetadata": {
      "byteLimit": 2048000,
      "implicitDf": true,
      "rowLimit": 10000
     },
     "inputWidgets": {},
     "nuid": "4143ced0-1730-47b3-8a74-b72681c99c60",
     "showTitle": false,
     "title": ""
    }
   },
   "outputs": [
    {
     "output_type": "display_data",
     "data": {
      "text/html": [
       "<style scoped>\n",
       "  .table-result-container {\n",
       "    max-height: 300px;\n",
       "    overflow: auto;\n",
       "  }\n",
       "  table, th, td {\n",
       "    border: 1px solid black;\n",
       "    border-collapse: collapse;\n",
       "  }\n",
       "  th, td {\n",
       "    padding: 5px;\n",
       "  }\n",
       "  th {\n",
       "    text-align: left;\n",
       "  }\n",
       "</style><div class='table-result-container'><table class='table-result'><thead style='background-color: white'><tr><th>col_name</th><th>data_type</th><th>comment</th></tr></thead><tbody><tr><td>GenreId</td><td>int</td><td>null</td></tr><tr><td>Name</td><td>string</td><td>null</td></tr><tr><td>_id</td><td>struct<oid:string></td><td>null</td></tr><tr><td></td><td></td><td></td></tr><tr><td># Delta Statistics Columns</td><td></td><td></td></tr><tr><td>Column Names</td><td>GenreId, Name, _id</td><td></td></tr><tr><td>Column Selection Method</td><td>first-32</td><td></td></tr><tr><td></td><td></td><td></td></tr><tr><td># Detailed Table Information</td><td></td><td></td></tr><tr><td>Catalog</td><td>spark_catalog</td><td></td></tr><tr><td>Database</td><td>chinook_dlh</td><td></td></tr><tr><td>Table</td><td>dim_genre</td><td></td></tr><tr><td>Created Time</td><td>Fri May 10 15:11:19 UTC 2024</td><td></td></tr><tr><td>Last Access</td><td>UNKNOWN</td><td></td></tr><tr><td>Created By</td><td>Spark 3.4.1</td><td></td></tr><tr><td>Type</td><td>MANAGED</td><td></td></tr><tr><td>Location</td><td>dbfs:/FileStore/lab_data/chinook_dlh/dim_genre</td><td></td></tr><tr><td>Provider</td><td>delta</td><td></td></tr><tr><td>Owner</td><td>root</td><td></td></tr><tr><td>Is_managed_location</td><td>true</td><td></td></tr><tr><td>Table Properties</td><td>[delta.minReaderVersion=1,delta.minWriterVersion=2]</td><td></td></tr></tbody></table></div>"
      ]
     },
     "metadata": {
      "application/vnd.databricks.v1+output": {
       "addedWidgets": {},
       "aggData": [],
       "aggError": "",
       "aggOverflow": false,
       "aggSchema": [],
       "aggSeriesLimitReached": false,
       "aggType": "",
       "arguments": {},
       "columnCustomDisplayInfos": {},
       "data": [
        [
         "GenreId",
         "int",
         null
        ],
        [
         "Name",
         "string",
         null
        ],
        [
         "_id",
         "struct<oid:string>",
         null
        ],
        [
         "",
         "",
         ""
        ],
        [
         "# Delta Statistics Columns",
         "",
         ""
        ],
        [
         "Column Names",
         "GenreId, Name, _id",
         ""
        ],
        [
         "Column Selection Method",
         "first-32",
         ""
        ],
        [
         "",
         "",
         ""
        ],
        [
         "# Detailed Table Information",
         "",
         ""
        ],
        [
         "Catalog",
         "spark_catalog",
         ""
        ],
        [
         "Database",
         "chinook_dlh",
         ""
        ],
        [
         "Table",
         "dim_genre",
         ""
        ],
        [
         "Created Time",
         "Fri May 10 15:11:19 UTC 2024",
         ""
        ],
        [
         "Last Access",
         "UNKNOWN",
         ""
        ],
        [
         "Created By",
         "Spark 3.4.1",
         ""
        ],
        [
         "Type",
         "MANAGED",
         ""
        ],
        [
         "Location",
         "dbfs:/FileStore/lab_data/chinook_dlh/dim_genre",
         ""
        ],
        [
         "Provider",
         "delta",
         ""
        ],
        [
         "Owner",
         "root",
         ""
        ],
        [
         "Is_managed_location",
         "true",
         ""
        ],
        [
         "Table Properties",
         "[delta.minReaderVersion=1,delta.minWriterVersion=2]",
         ""
        ]
       ],
       "datasetInfos": [],
       "dbfsResultPath": null,
       "isJsonSchema": true,
       "metadata": {
        "dataframeName": "_sqldf",
        "executionCount": 11
       },
       "overflow": false,
       "plotOptions": {
        "customPlotOptions": {},
        "displayType": "table",
        "pivotAggregation": null,
        "pivotColumns": null,
        "xColumns": null,
        "yColumns": null
       },
       "removedWidgets": [],
       "schema": [
        {
         "metadata": "{\"comment\":\"name of the column\"}",
         "name": "col_name",
         "type": "\"string\""
        },
        {
         "metadata": "{\"comment\":\"data type of the column\"}",
         "name": "data_type",
         "type": "\"string\""
        },
        {
         "metadata": "{\"comment\":\"comment of the column\"}",
         "name": "comment",
         "type": "\"string\""
        }
       ],
       "type": "table"
      }
     },
     "output_type": "display_data"
    }
   ],
   "source": [
    "%sql\n",
    "DESCRIBE EXTENDED chinook_dlh.dim_genre"
   ]
  },
  {
   "cell_type": "code",
   "execution_count": 0,
   "metadata": {
    "application/vnd.databricks.v1+cell": {
     "cellMetadata": {
      "byteLimit": 2048000,
      "implicitDf": true,
      "rowLimit": 10000
     },
     "inputWidgets": {},
     "nuid": "1249f039-0cce-4784-b0ed-81a2a54010cf",
     "showTitle": false,
     "title": ""
    }
   },
   "outputs": [
    {
     "output_type": "display_data",
     "data": {
      "text/html": [
       "<style scoped>\n",
       "  .table-result-container {\n",
       "    max-height: 300px;\n",
       "    overflow: auto;\n",
       "  }\n",
       "  table, th, td {\n",
       "    border: 1px solid black;\n",
       "    border-collapse: collapse;\n",
       "  }\n",
       "  th, td {\n",
       "    padding: 5px;\n",
       "  }\n",
       "  th {\n",
       "    text-align: left;\n",
       "  }\n",
       "</style><div class='table-result-container'><table class='table-result'><thead style='background-color: white'><tr></tr></thead><tbody></tbody></table></div>"
      ]
     },
     "metadata": {
      "application/vnd.databricks.v1+output": {
       "addedWidgets": {},
       "aggData": [],
       "aggError": "",
       "aggOverflow": false,
       "aggSchema": [],
       "aggSeriesLimitReached": false,
       "aggType": "",
       "arguments": {},
       "columnCustomDisplayInfos": {},
       "data": [],
       "datasetInfos": [],
       "dbfsResultPath": null,
       "isJsonSchema": true,
       "metadata": {
        "dataframeName": null
       },
       "overflow": false,
       "plotOptions": {
        "customPlotOptions": {},
        "displayType": "table",
        "pivotAggregation": null,
        "pivotColumns": null,
        "xColumns": null,
        "yColumns": null
       },
       "removedWidgets": [],
       "schema": [],
       "type": "table"
      }
     },
     "output_type": "display_data"
    }
   ],
   "source": [
    "%sql\n",
    "-- Create a Temporary View named \"view_customers\"\n",
    "CREATE OR REPLACE TEMPORARY VIEW view_customers\n",
    "USING org.apache.spark.sql.jdbc\n",
    "OPTIONS (\n",
    "  url \"jdbc:mysql://rmg7jb.mysql.database.azure.com:3306/chinook_dw\", --Replace with your Server Name\n",
    "  dbtable \"dim_Customers\",\n",
    "  user \"rmg7jb\",    --Replace with your User Name\n",
    "  password \"Passw0rd123!\"  --Replace with you password\n",
    ")"
   ]
  },
  {
   "cell_type": "code",
   "execution_count": 0,
   "metadata": {
    "application/vnd.databricks.v1+cell": {
     "cellMetadata": {
      "byteLimit": 2048000,
      "implicitDf": true,
      "rowLimit": 10000
     },
     "inputWidgets": {},
     "nuid": "cb8d723b-b51c-40da-9f77-54a66c6dcde0",
     "showTitle": false,
     "title": ""
    }
   },
   "outputs": [
    {
     "output_type": "display_data",
     "data": {
      "text/html": [
       "<style scoped>\n",
       "  .table-result-container {\n",
       "    max-height: 300px;\n",
       "    overflow: auto;\n",
       "  }\n",
       "  table, th, td {\n",
       "    border: 1px solid black;\n",
       "    border-collapse: collapse;\n",
       "  }\n",
       "  th, td {\n",
       "    padding: 5px;\n",
       "  }\n",
       "  th {\n",
       "    text-align: left;\n",
       "  }\n",
       "</style><div class='table-result-container'><table class='table-result'><thead style='background-color: white'><tr><th>num_affected_rows</th><th>num_inserted_rows</th></tr></thead><tbody></tbody></table></div>"
      ]
     },
     "metadata": {
      "application/vnd.databricks.v1+output": {
       "addedWidgets": {},
       "aggData": [],
       "aggError": "",
       "aggOverflow": false,
       "aggSchema": [],
       "aggSeriesLimitReached": false,
       "aggType": "",
       "arguments": {},
       "columnCustomDisplayInfos": {},
       "data": [],
       "datasetInfos": [],
       "dbfsResultPath": null,
       "isJsonSchema": true,
       "metadata": {
        "dataframeName": "_sqldf",
        "executionCount": 12
       },
       "overflow": false,
       "plotOptions": {
        "customPlotOptions": {},
        "displayType": "table",
        "pivotAggregation": null,
        "pivotColumns": null,
        "xColumns": null,
        "yColumns": null
       },
       "removedWidgets": [],
       "schema": [
        {
         "metadata": "{}",
         "name": "num_affected_rows",
         "type": "\"long\""
        },
        {
         "metadata": "{}",
         "name": "num_inserted_rows",
         "type": "\"long\""
        }
       ],
       "type": "table"
      }
     },
     "output_type": "display_data"
    }
   ],
   "source": [
    "%sql\n",
    "USE DATABASE chinook_dlh;\n",
    "CREATE OR REPLACE TABLE chinook_dlh.dim_customers\n",
    "COMMENT \"Customers Dimension Table\"\n",
    "LOCATION \"dbfs:/FileStore/lab_data/chinook_dlh/dim_customers\"\n",
    "AS SELECT * FROM view_customers"
   ]
  },
  {
   "cell_type": "code",
   "execution_count": 0,
   "metadata": {
    "application/vnd.databricks.v1+cell": {
     "cellMetadata": {
      "byteLimit": 2048000,
      "implicitDf": true,
      "rowLimit": 10000
     },
     "inputWidgets": {},
     "nuid": "1f31b389-f375-48be-b267-24586a9f7126",
     "showTitle": false,
     "title": ""
    }
   },
   "outputs": [
    {
     "output_type": "display_data",
     "data": {
      "text/html": [
       "<style scoped>\n",
       "  .table-result-container {\n",
       "    max-height: 300px;\n",
       "    overflow: auto;\n",
       "  }\n",
       "  table, th, td {\n",
       "    border: 1px solid black;\n",
       "    border-collapse: collapse;\n",
       "  }\n",
       "  th, td {\n",
       "    padding: 5px;\n",
       "  }\n",
       "  th {\n",
       "    text-align: left;\n",
       "  }\n",
       "</style><div class='table-result-container'><table class='table-result'><thead style='background-color: white'><tr><th>database</th><th>tableName</th><th>isTemporary</th></tr></thead><tbody><tr><td>chinook_dlh</td><td>dim_customers</td><td>false</td></tr><tr><td>chinook_dlh</td><td>dim_date</td><td>false</td></tr><tr><td>chinook_dlh</td><td>dim_genre</td><td>false</td></tr><tr><td>chinook_dlh</td><td>dim_tracks</td><td>false</td></tr><tr><td></td><td>view_customers</td><td>true</td></tr><tr><td></td><td>view_date</td><td>true</td></tr><tr><td></td><td>view_tracks</td><td>true</td></tr></tbody></table></div>"
      ]
     },
     "metadata": {
      "application/vnd.databricks.v1+output": {
       "addedWidgets": {},
       "aggData": [],
       "aggError": "",
       "aggOverflow": false,
       "aggSchema": [],
       "aggSeriesLimitReached": false,
       "aggType": "",
       "arguments": {},
       "columnCustomDisplayInfos": {},
       "data": [
        [
         "chinook_dlh",
         "dim_customers",
         false
        ],
        [
         "chinook_dlh",
         "dim_date",
         false
        ],
        [
         "chinook_dlh",
         "dim_genre",
         false
        ],
        [
         "chinook_dlh",
         "dim_tracks",
         false
        ],
        [
         "",
         "view_customers",
         true
        ],
        [
         "",
         "view_date",
         true
        ],
        [
         "",
         "view_tracks",
         true
        ]
       ],
       "datasetInfos": [],
       "dbfsResultPath": null,
       "isJsonSchema": true,
       "metadata": {
        "dataframeName": "_sqldf",
        "executionCount": 13
       },
       "overflow": false,
       "plotOptions": {
        "customPlotOptions": {},
        "displayType": "table",
        "pivotAggregation": null,
        "pivotColumns": null,
        "xColumns": null,
        "yColumns": null
       },
       "removedWidgets": [],
       "schema": [
        {
         "metadata": "{}",
         "name": "database",
         "type": "\"string\""
        },
        {
         "metadata": "{}",
         "name": "tableName",
         "type": "\"string\""
        },
        {
         "metadata": "{}",
         "name": "isTemporary",
         "type": "\"boolean\""
        }
       ],
       "type": "table"
      }
     },
     "output_type": "display_data"
    }
   ],
   "source": [
    "%sql\n",
    "USE chinook_dlh;\n",
    "SHOW TABLES"
   ]
  },
  {
   "cell_type": "code",
   "execution_count": 0,
   "metadata": {
    "application/vnd.databricks.v1+cell": {
     "cellMetadata": {
      "byteLimit": 2048000,
      "rowLimit": 10000
     },
     "inputWidgets": {},
     "nuid": "0f3219ad-346f-440c-8105-3f6693b67483",
     "showTitle": false,
     "title": ""
    }
   },
   "outputs": [],
   "source": [
    "filePath = \"dbfs:/FileStore/tables/project_data\""
   ]
  },
  {
   "cell_type": "code",
   "execution_count": 0,
   "metadata": {
    "application/vnd.databricks.v1+cell": {
     "cellMetadata": {
      "byteLimit": 2048000,
      "rowLimit": 10000
     },
     "inputWidgets": {},
     "nuid": "5b36a321-ceec-4d11-88fa-1389b879514e",
     "showTitle": false,
     "title": ""
    }
   },
   "outputs": [],
   "source": [
    "(spark.readStream\n",
    " .format(\"cloudFiles\")\n",
    " .option(\"cloudFiles.format\", \"json\")\n",
    " .option(\"cloudFiles.schemaLocation\", \"dbfs:/FileStore/tables/project_data/bronze\")\n",
    " .option(\"cloudFiles.inferColumnTypes\", \"true\")\n",
    " .option(\"multiLine\", \"true\")\n",
    " .load(filePath)\n",
    " .createOrReplaceTempView(\"orders_raw_tempview\"))\n"
   ]
  },
  {
   "cell_type": "code",
   "execution_count": 0,
   "metadata": {
    "application/vnd.databricks.v1+cell": {
     "cellMetadata": {
      "byteLimit": 2048000,
      "implicitDf": true,
      "rowLimit": 10000
     },
     "inputWidgets": {},
     "nuid": "a3d6ec4f-e00c-46f6-886a-fa6a85a26dc7",
     "showTitle": false,
     "title": ""
    }
   },
   "outputs": [
    {
     "output_type": "display_data",
     "data": {
      "text/html": [
       "<style scoped>\n",
       "  .table-result-container {\n",
       "    max-height: 300px;\n",
       "    overflow: auto;\n",
       "  }\n",
       "  table, th, td {\n",
       "    border: 1px solid black;\n",
       "    border-collapse: collapse;\n",
       "  }\n",
       "  th, td {\n",
       "    padding: 5px;\n",
       "  }\n",
       "  th {\n",
       "    text-align: left;\n",
       "  }\n",
       "</style><div class='table-result-container'><table class='table-result'><thead style='background-color: white'><tr></tr></thead><tbody></tbody></table></div>"
      ]
     },
     "metadata": {
      "application/vnd.databricks.v1+output": {
       "addedWidgets": {},
       "aggData": [],
       "aggError": "",
       "aggOverflow": false,
       "aggSchema": [],
       "aggSeriesLimitReached": false,
       "aggType": "",
       "arguments": {},
       "columnCustomDisplayInfos": {},
       "data": [],
       "datasetInfos": [],
       "dbfsResultPath": null,
       "isJsonSchema": true,
       "metadata": {
        "dataframeName": null
       },
       "overflow": false,
       "plotOptions": {
        "customPlotOptions": {},
        "displayType": "table",
        "pivotAggregation": null,
        "pivotColumns": null,
        "xColumns": null,
        "yColumns": null
       },
       "removedWidgets": [],
       "schema": [],
       "type": "table"
      }
     },
     "output_type": "display_data"
    }
   ],
   "source": [
    "%sql\n",
    "/* Add Metadata for Traceability */\n",
    "CREATE OR REPLACE TEMPORARY VIEW orders_bronze_tempview AS (\n",
    "  SELECT customer_id,id,invoice_date,invoice_line_id,quantity,track_id,unit_price,invoice_id, current_timestamp() receipt_time, input_file_name() source_file\n",
    "  FROM orders_raw_tempview\n",
    ")"
   ]
  },
  {
   "cell_type": "code",
   "execution_count": 0,
   "metadata": {
    "application/vnd.databricks.v1+cell": {
     "cellMetadata": {},
     "inputWidgets": {},
     "nuid": "8c27cfce-235f-4488-a15d-4d8a013cae58",
     "showTitle": false,
     "title": ""
    }
   },
   "outputs": [],
   "source": [
    "%sql\n",
    "SELECT * FROM orders_bronze_tempview LIMIT 5"
   ]
  },
  {
   "cell_type": "code",
   "execution_count": 0,
   "metadata": {
    "application/vnd.databricks.v1+cell": {
     "cellMetadata": {
      "byteLimit": 2048000,
      "rowLimit": 10000
     },
     "inputWidgets": {},
     "nuid": "5e199b4b-4244-42ed-87cb-06021f3a3dbb",
     "showTitle": false,
     "title": ""
    }
   },
   "outputs": [
    {
     "output_type": "execute_result",
     "data": {
      "text/plain": [
       "<pyspark.sql.streaming.query.StreamingQuery at 0x7f233c5af6a0>"
      ]
     },
     "execution_count": 17,
     "metadata": {},
     "output_type": "execute_result"
    }
   ],
   "source": [
    "(spark.table(\"orders_bronze_tempview\")\n",
    "      .writeStream\n",
    "      .format(\"delta\")\n",
    "      .option(\"checkpointLocation\", \"dbfs:/FileStore/tables/project_data/bronze\")\n",
    "      .outputMode(\"append\")\n",
    "      .table(\"fact_orders_bronze\"))"
   ]
  },
  {
   "cell_type": "code",
   "execution_count": 0,
   "metadata": {
    "application/vnd.databricks.v1+cell": {
     "cellMetadata": {
      "byteLimit": 2048000,
      "rowLimit": 10000
     },
     "inputWidgets": {},
     "nuid": "eeee9b49-c722-477c-8590-842d779bf611",
     "showTitle": false,
     "title": ""
    }
   },
   "outputs": [],
   "source": [
    "(spark.readStream\n",
    "  .table(\"fact_orders_bronze\")\n",
    "  .createOrReplaceTempView(\"orders_silver_tempview\"))"
   ]
  },
  {
   "cell_type": "code",
   "execution_count": 0,
   "metadata": {
    "application/vnd.databricks.v1+cell": {
     "cellMetadata": {
      "byteLimit": 2048000,
      "implicitDf": true,
      "rowLimit": 10000
     },
     "inputWidgets": {},
     "nuid": "57d925bf-b66a-4bf2-9ff3-f1ba2af354f1",
     "showTitle": false,
     "title": ""
    }
   },
   "outputs": [
    {
     "output_type": "display_data",
     "data": {
      "text/html": [
       "<style scoped>\n",
       "  .table-result-container {\n",
       "    max-height: 300px;\n",
       "    overflow: auto;\n",
       "  }\n",
       "  table, th, td {\n",
       "    border: 1px solid black;\n",
       "    border-collapse: collapse;\n",
       "  }\n",
       "  th, td {\n",
       "    padding: 5px;\n",
       "  }\n",
       "  th {\n",
       "    text-align: left;\n",
       "  }\n",
       "</style><div class='table-result-container'><table class='table-result'><thead style='background-color: white'><tr><th>col_name</th><th>data_type</th><th>comment</th></tr></thead><tbody><tr><td>customer_id</td><td>bigint</td><td>null</td></tr><tr><td>id</td><td>bigint</td><td>null</td></tr><tr><td>invoice_date</td><td>bigint</td><td>null</td></tr><tr><td>invoice_line_id</td><td>bigint</td><td>null</td></tr><tr><td>quantity</td><td>bigint</td><td>null</td></tr><tr><td>track_id</td><td>bigint</td><td>null</td></tr><tr><td>unit_price</td><td>double</td><td>null</td></tr><tr><td>invoice_id</td><td>bigint</td><td>null</td></tr><tr><td>receipt_time</td><td>timestamp</td><td>null</td></tr><tr><td>source_file</td><td>string</td><td>null</td></tr></tbody></table></div>"
      ]
     },
     "metadata": {
      "application/vnd.databricks.v1+output": {
       "addedWidgets": {},
       "aggData": [],
       "aggError": "",
       "aggOverflow": false,
       "aggSchema": [],
       "aggSeriesLimitReached": false,
       "aggType": "",
       "arguments": {},
       "columnCustomDisplayInfos": {},
       "data": [
        [
         "customer_id",
         "bigint",
         null
        ],
        [
         "id",
         "bigint",
         null
        ],
        [
         "invoice_date",
         "bigint",
         null
        ],
        [
         "invoice_line_id",
         "bigint",
         null
        ],
        [
         "quantity",
         "bigint",
         null
        ],
        [
         "track_id",
         "bigint",
         null
        ],
        [
         "unit_price",
         "double",
         null
        ],
        [
         "invoice_id",
         "bigint",
         null
        ],
        [
         "receipt_time",
         "timestamp",
         null
        ],
        [
         "source_file",
         "string",
         null
        ]
       ],
       "datasetInfos": [],
       "dbfsResultPath": null,
       "isJsonSchema": true,
       "metadata": {
        "dataframeName": "_sqldf",
        "executionCount": 20
       },
       "overflow": false,
       "plotOptions": {
        "customPlotOptions": {},
        "displayType": "table",
        "pivotAggregation": null,
        "pivotColumns": null,
        "xColumns": null,
        "yColumns": null
       },
       "removedWidgets": [],
       "schema": [
        {
         "metadata": "{\"comment\":\"name of the column\"}",
         "name": "col_name",
         "type": "\"string\""
        },
        {
         "metadata": "{\"comment\":\"data type of the column\"}",
         "name": "data_type",
         "type": "\"string\""
        },
        {
         "metadata": "{\"comment\":\"comment of the column\"}",
         "name": "comment",
         "type": "\"string\""
        }
       ],
       "type": "table"
      }
     },
     "output_type": "display_data"
    }
   ],
   "source": [
    "%sql\n",
    "DESCRIBE EXTENDED orders_silver_tempview"
   ]
  },
  {
   "cell_type": "code",
   "execution_count": 0,
   "metadata": {
    "application/vnd.databricks.v1+cell": {
     "cellMetadata": {
      "byteLimit": 2048000,
      "implicitDf": true,
      "rowLimit": 10000
     },
     "inputWidgets": {},
     "nuid": "0946f996-e1e7-4cf6-a683-169cd0ba1e8b",
     "showTitle": false,
     "title": ""
    }
   },
   "outputs": [
    {
     "output_type": "display_data",
     "data": {
      "text/html": [
       "<style scoped>\n",
       "  .table-result-container {\n",
       "    max-height: 300px;\n",
       "    overflow: auto;\n",
       "  }\n",
       "  table, th, td {\n",
       "    border: 1px solid black;\n",
       "    border-collapse: collapse;\n",
       "  }\n",
       "  th, td {\n",
       "    padding: 5px;\n",
       "  }\n",
       "  th {\n",
       "    text-align: left;\n",
       "  }\n",
       "</style><div class='table-result-container'><table class='table-result'><thead style='background-color: white'><tr></tr></thead><tbody></tbody></table></div>"
      ]
     },
     "metadata": {
      "application/vnd.databricks.v1+output": {
       "addedWidgets": {},
       "aggData": [],
       "aggError": "",
       "aggOverflow": false,
       "aggSchema": [],
       "aggSeriesLimitReached": false,
       "aggType": "",
       "arguments": {},
       "columnCustomDisplayInfos": {},
       "data": [],
       "datasetInfos": [],
       "dbfsResultPath": null,
       "isJsonSchema": true,
       "metadata": {
        "dataframeName": null
       },
       "overflow": false,
       "plotOptions": {
        "customPlotOptions": {},
        "displayType": "table",
        "pivotAggregation": null,
        "pivotColumns": null,
        "xColumns": null,
        "yColumns": null
       },
       "removedWidgets": [],
       "schema": [],
       "type": "table"
      }
     },
     "output_type": "display_data"
    }
   ],
   "source": [
    "%sql\n",
    "CREATE OR REPLACE TEMPORARY VIEW fact_orders_silver_tempview AS (\n",
    "  SELECT o.id,\n",
    "      o.invoice_id,\n",
    "      o.invoice_line_id,\n",
    "      o.track_id,\n",
    "      o.customer_id,\n",
    "      o.invoice_date,\n",
    "      o.unit_price,\n",
    "      o.quantity,\n",
    "      c.FirstName,\n",
    "      c.LastName,\n",
    "      c.Company,\n",
    "      c.Address,\n",
    "      c.City,\n",
    "      c.State,\n",
    "      c.Country,\n",
    "      c.PostalCode,\n",
    "      c.Phone,\n",
    "      c.Fax,\n",
    "      c.Email,\n",
    "      c.SupportRepId,\n",
    "      t.track_key,\n",
    "      t.Name,\n",
    "      t.album_id,\n",
    "      t.media_type_id,\n",
    "      t.genre_id,\n",
    "      t.Composer,\n",
    "      t.Milliseconds,\n",
    "      t.Bytes,\n",
    "      t.UnitPrice,\n",
    "      d.date_key\n",
    "\n",
    "  FROM orders_silver_tempview AS o\n",
    "  INNER JOIN chinook_dlh.dim_customers AS c\n",
    "  ON c.customer_id = o.customer_id\n",
    "  INNER JOIN chinook_dlh.dim_tracks AS t\n",
    "  ON t.track_id = o.track_id\n",
    "  LEFT OUTER JOIN chinook_dlh.dim_date AS d\n",
    "  ON d.date_key = o.invoice_date\n",
    ")"
   ]
  },
  {
   "cell_type": "code",
   "execution_count": 0,
   "metadata": {
    "application/vnd.databricks.v1+cell": {
     "cellMetadata": {
      "byteLimit": 2048000,
      "implicitDf": true,
      "rowLimit": 10000
     },
     "inputWidgets": {},
     "nuid": "86008690-10ef-4699-847b-39a7044d94f6",
     "showTitle": false,
     "title": ""
    }
   },
   "outputs": [
    {
     "output_type": "display_data",
     "data": {
      "text/html": [
       "<style scoped>\n",
       "  .table-result-container {\n",
       "    max-height: 300px;\n",
       "    overflow: auto;\n",
       "  }\n",
       "  table, th, td {\n",
       "    border: 1px solid black;\n",
       "    border-collapse: collapse;\n",
       "  }\n",
       "  th, td {\n",
       "    padding: 5px;\n",
       "  }\n",
       "  th {\n",
       "    text-align: left;\n",
       "  }\n",
       "</style><div class='table-result-container'><table class='table-result'><thead style='background-color: white'><tr></tr></thead><tbody></tbody></table></div>"
      ]
     },
     "metadata": {
      "application/vnd.databricks.v1+output": {
       "addedWidgets": {},
       "aggData": [],
       "aggError": "",
       "aggOverflow": false,
       "aggSchema": [],
       "aggSeriesLimitReached": false,
       "aggType": "",
       "arguments": {},
       "columnCustomDisplayInfos": {},
       "data": [],
       "datasetInfos": [],
       "dbfsResultPath": null,
       "isJsonSchema": true,
       "metadata": {
        "dataframeName": "_sqldf",
        "executionCount": 30
       },
       "overflow": false,
       "plotOptions": {
        "customPlotOptions": {},
        "displayType": "table",
        "pivotAggregation": null,
        "pivotColumns": null,
        "xColumns": null,
        "yColumns": null
       },
       "removedWidgets": [],
       "schema": [],
       "type": "table"
      }
     },
     "output_type": "display_data"
    }
   ],
   "source": [
    "%sql\n",
    "SELECT * FROM fact_orders_silver_tempview LIMIT 5"
   ]
  },
  {
   "cell_type": "code",
   "execution_count": 0,
   "metadata": {
    "application/vnd.databricks.v1+cell": {
     "cellMetadata": {
      "byteLimit": 2048000,
      "rowLimit": 10000
     },
     "inputWidgets": {},
     "nuid": "24bfaa79-15b5-4350-bb9d-c44a80b607ed",
     "showTitle": false,
     "title": ""
    }
   },
   "outputs": [
    {
     "output_type": "execute_result",
     "data": {
      "text/plain": [
       "<pyspark.sql.streaming.query.StreamingQuery at 0x7f235856fb80>"
      ]
     },
     "execution_count": 23,
     "metadata": {},
     "output_type": "execute_result"
    }
   ],
   "source": [
    "(spark.table(\"fact_orders_silver_tempview\")\n",
    "      .writeStream\n",
    "      .format(\"delta\")\n",
    "      .option(\"checkpointLocation\", \"dbfs:/FileStore/tables/project_data/silver/_checkpoint\")\n",
    "      .outputMode(\"append\")\n",
    "      .table(\"fact_orders_silver\"))\n",
    "      "
   ]
  },
  {
   "cell_type": "code",
   "execution_count": 0,
   "metadata": {
    "application/vnd.databricks.v1+cell": {
     "cellMetadata": {
      "byteLimit": 2048000,
      "implicitDf": true,
      "rowLimit": 10000
     },
     "inputWidgets": {},
     "nuid": "d40f2d25-14c9-41b2-bccb-f23d0ee542d4",
     "showTitle": false,
     "title": ""
    }
   },
   "outputs": [
    {
     "output_type": "display_data",
     "data": {
      "text/html": [
       "<style scoped>\n",
       "  .table-result-container {\n",
       "    max-height: 300px;\n",
       "    overflow: auto;\n",
       "  }\n",
       "  table, th, td {\n",
       "    border: 1px solid black;\n",
       "    border-collapse: collapse;\n",
       "  }\n",
       "  th, td {\n",
       "    padding: 5px;\n",
       "  }\n",
       "  th {\n",
       "    text-align: left;\n",
       "  }\n",
       "</style><div class='table-result-container'><table class='table-result'><thead style='background-color: white'><tr><th>CustomerID</th><th>LastName</th><th>FirstName</th><th>Amount</th></tr></thead><tbody><tr><td>59</td><td>Srivastava</td><td>Puja</td><td>1.99</td></tr><tr><td>51</td><td>Johansson</td><td>Joakim</td><td>1.99</td></tr><tr><td>57</td><td>Rojas</td><td>Luis</td><td>1.99</td></tr><tr><td>19</td><td>Goyer</td><td>Tim</td><td>1.99</td></tr><tr><td>24</td><td>Ralston</td><td>Frank</td><td>1.99</td></tr><tr><td>44</td><td>Hämäläinen</td><td>Terhi</td><td>1.99</td></tr><tr><td>40</td><td>Lefebvre</td><td>Dominique</td><td>1.99</td></tr><tr><td>42</td><td>Girard</td><td>Wyatt</td><td>1.99</td></tr><tr><td>4</td><td>Hansen</td><td>Bjørn</td><td>1.99</td></tr><tr><td>43</td><td>Mercier</td><td>Isabelle</td><td>1.99</td></tr><tr><td>48</td><td>Van der Berg</td><td>Johannes</td><td>1.99</td></tr><tr><td>20</td><td>Miller</td><td>Dan</td><td>1.99</td></tr><tr><td>37</td><td>Zimmermann</td><td>Fynn</td><td>1.99</td></tr><tr><td>6</td><td>Holý</td><td>Helena</td><td>1.99</td></tr><tr><td>28</td><td>Barnett</td><td>Julia</td><td>1.99</td></tr><tr><td>3</td><td>Tremblay</td><td>François</td><td>1.99</td></tr><tr><td>46</td><td>O'Reilly</td><td>Hugh</td><td>1.99</td></tr><tr><td>39</td><td>Bernard</td><td>Camille</td><td>1.99</td></tr><tr><td>45</td><td>Kovács</td><td>Ladislav</td><td>1.99</td></tr><tr><td>17</td><td>Smith</td><td>Jack</td><td>1.99</td></tr><tr><td>15</td><td>Peterson</td><td>Jennifer</td><td>1.99</td></tr><tr><td>25</td><td>Stevens</td><td>Victor</td><td>1.99</td></tr><tr><td>26</td><td>Cunningham</td><td>Richard</td><td>1.99</td></tr><tr><td>58</td><td>Pareek</td><td>Manoj</td><td>1.99</td></tr><tr><td>34</td><td>Fernandes</td><td>João</td><td>1.99</td></tr><tr><td>1</td><td>Gonçalves</td><td>Luís</td><td>1.99</td></tr><tr><td>22</td><td>Leacock</td><td>Heather</td><td>1.99</td></tr><tr><td>5</td><td>Wichterlová</td><td>František</td><td>1.99</td></tr><tr><td>7</td><td>Gruber</td><td>Astrid</td><td>1.99</td></tr><tr><td>7</td><td>Gruber</td><td>Astrid</td><td>0.99</td></tr><tr><td>28</td><td>Barnett</td><td>Julia</td><td>0.99</td></tr><tr><td>57</td><td>Rojas</td><td>Luis</td><td>0.99</td></tr><tr><td>2</td><td>Köhler</td><td>Leonie</td><td>0.99</td></tr><tr><td>34</td><td>Fernandes</td><td>João</td><td>0.99</td></tr><tr><td>13</td><td>Ramos</td><td>Fernanda</td><td>0.99</td></tr><tr><td>37</td><td>Zimmermann</td><td>Fynn</td><td>0.99</td></tr><tr><td>45</td><td>Kovács</td><td>Ladislav</td><td>0.99</td></tr><tr><td>20</td><td>Miller</td><td>Dan</td><td>0.99</td></tr><tr><td>50</td><td>Muñoz</td><td>Enrique</td><td>0.99</td></tr><tr><td>33</td><td>Sullivan</td><td>Ellie</td><td>0.99</td></tr><tr><td>39</td><td>Bernard</td><td>Camille</td><td>0.99</td></tr><tr><td>30</td><td>Francis</td><td>Edward</td><td>0.99</td></tr><tr><td>38</td><td>Schröder</td><td>Niklas</td><td>0.99</td></tr><tr><td>32</td><td>Mitchell</td><td>Aaron</td><td>0.99</td></tr><tr><td>52</td><td>Jones</td><td>Emma</td><td>0.99</td></tr><tr><td>11</td><td>Rocha</td><td>Alexandre</td><td>0.99</td></tr><tr><td>12</td><td>Almeida</td><td>Roberto</td><td>0.99</td></tr><tr><td>15</td><td>Peterson</td><td>Jennifer</td><td>0.99</td></tr><tr><td>29</td><td>Brown</td><td>Robert</td><td>0.99</td></tr><tr><td>51</td><td>Johansson</td><td>Joakim</td><td>0.99</td></tr><tr><td>14</td><td>Philips</td><td>Mark</td><td>0.99</td></tr><tr><td>4</td><td>Hansen</td><td>Bjørn</td><td>0.99</td></tr><tr><td>47</td><td>Mancini</td><td>Lucas</td><td>0.99</td></tr><tr><td>53</td><td>Hughes</td><td>Phil</td><td>0.99</td></tr><tr><td>6</td><td>Holý</td><td>Helena</td><td>0.99</td></tr><tr><td>41</td><td>Dubois</td><td>Marc</td><td>0.99</td></tr><tr><td>3</td><td>Tremblay</td><td>François</td><td>0.99</td></tr><tr><td>56</td><td>Gutiérrez</td><td>Diego</td><td>0.99</td></tr><tr><td>23</td><td>Gordon</td><td>John</td><td>0.99</td></tr><tr><td>31</td><td>Silk</td><td>Martha</td><td>0.99</td></tr><tr><td>24</td><td>Ralston</td><td>Frank</td><td>0.99</td></tr><tr><td>16</td><td>Harris</td><td>Frank</td><td>0.99</td></tr><tr><td>40</td><td>Lefebvre</td><td>Dominique</td><td>0.99</td></tr><tr><td>21</td><td>Chase</td><td>Kathy</td><td>0.99</td></tr><tr><td>18</td><td>Brooks</td><td>Michelle</td><td>0.99</td></tr><tr><td>49</td><td>Wójcik</td><td>Stanisław</td><td>0.99</td></tr><tr><td>10</td><td>Martins</td><td>Eduardo</td><td>0.99</td></tr><tr><td>55</td><td>Taylor</td><td>Mark</td><td>0.99</td></tr><tr><td>54</td><td>Murray</td><td>Steve</td><td>0.99</td></tr><tr><td>5</td><td>Wichterlová</td><td>František</td><td>0.99</td></tr><tr><td>22</td><td>Leacock</td><td>Heather</td><td>0.99</td></tr><tr><td>17</td><td>Smith</td><td>Jack</td><td>0.99</td></tr><tr><td>36</td><td>Schneider</td><td>Hannah</td><td>0.99</td></tr><tr><td>35</td><td>Sampaio</td><td>Madalena</td><td>0.99</td></tr><tr><td>1</td><td>Gonçalves</td><td>Luís</td><td>0.99</td></tr><tr><td>19</td><td>Goyer</td><td>Tim</td><td>0.99</td></tr><tr><td>27</td><td>Gray</td><td>Patrick</td><td>0.99</td></tr><tr><td>43</td><td>Mercier</td><td>Isabelle</td><td>0.99</td></tr><tr><td>8</td><td>Peeters</td><td>Daan</td><td>0.99</td></tr><tr><td>26</td><td>Cunningham</td><td>Richard</td><td>0.99</td></tr><tr><td>59</td><td>Srivastava</td><td>Puja</td><td>0.99</td></tr><tr><td>58</td><td>Pareek</td><td>Manoj</td><td>0.99</td></tr><tr><td>25</td><td>Stevens</td><td>Victor</td><td>0.99</td></tr><tr><td>46</td><td>O'Reilly</td><td>Hugh</td><td>0.99</td></tr><tr><td>48</td><td>Van der Berg</td><td>Johannes</td><td>0.99</td></tr><tr><td>9</td><td>Nielsen</td><td>Kara</td><td>0.99</td></tr><tr><td>42</td><td>Girard</td><td>Wyatt</td><td>0.99</td></tr><tr><td>44</td><td>Hämäläinen</td><td>Terhi</td><td>0.99</td></tr></tbody></table></div>"
      ]
     },
     "metadata": {
      "application/vnd.databricks.v1+output": {
       "addedWidgets": {},
       "aggData": [],
       "aggError": "",
       "aggOverflow": false,
       "aggSchema": [],
       "aggSeriesLimitReached": false,
       "aggType": "",
       "arguments": {},
       "columnCustomDisplayInfos": {},
       "data": [
        [
         59,
         "Srivastava",
         "Puja",
         1.99
        ],
        [
         51,
         "Johansson",
         "Joakim",
         1.99
        ],
        [
         57,
         "Rojas",
         "Luis",
         1.99
        ],
        [
         19,
         "Goyer",
         "Tim",
         1.99
        ],
        [
         24,
         "Ralston",
         "Frank",
         1.99
        ],
        [
         44,
         "Hämäläinen",
         "Terhi",
         1.99
        ],
        [
         40,
         "Lefebvre",
         "Dominique",
         1.99
        ],
        [
         42,
         "Girard",
         "Wyatt",
         1.99
        ],
        [
         4,
         "Hansen",
         "Bjørn",
         1.99
        ],
        [
         43,
         "Mercier",
         "Isabelle",
         1.99
        ],
        [
         48,
         "Van der Berg",
         "Johannes",
         1.99
        ],
        [
         20,
         "Miller",
         "Dan",
         1.99
        ],
        [
         37,
         "Zimmermann",
         "Fynn",
         1.99
        ],
        [
         6,
         "Holý",
         "Helena",
         1.99
        ],
        [
         28,
         "Barnett",
         "Julia",
         1.99
        ],
        [
         3,
         "Tremblay",
         "François",
         1.99
        ],
        [
         46,
         "O'Reilly",
         "Hugh",
         1.99
        ],
        [
         39,
         "Bernard",
         "Camille",
         1.99
        ],
        [
         45,
         "Kovács",
         "Ladislav",
         1.99
        ],
        [
         17,
         "Smith",
         "Jack",
         1.99
        ],
        [
         15,
         "Peterson",
         "Jennifer",
         1.99
        ],
        [
         25,
         "Stevens",
         "Victor",
         1.99
        ],
        [
         26,
         "Cunningham",
         "Richard",
         1.99
        ],
        [
         58,
         "Pareek",
         "Manoj",
         1.99
        ],
        [
         34,
         "Fernandes",
         "João",
         1.99
        ],
        [
         1,
         "Gonçalves",
         "Luís",
         1.99
        ],
        [
         22,
         "Leacock",
         "Heather",
         1.99
        ],
        [
         5,
         "Wichterlová",
         "František",
         1.99
        ],
        [
         7,
         "Gruber",
         "Astrid",
         1.99
        ],
        [
         7,
         "Gruber",
         "Astrid",
         0.99
        ],
        [
         28,
         "Barnett",
         "Julia",
         0.99
        ],
        [
         57,
         "Rojas",
         "Luis",
         0.99
        ],
        [
         2,
         "Köhler",
         "Leonie",
         0.99
        ],
        [
         34,
         "Fernandes",
         "João",
         0.99
        ],
        [
         13,
         "Ramos",
         "Fernanda",
         0.99
        ],
        [
         37,
         "Zimmermann",
         "Fynn",
         0.99
        ],
        [
         45,
         "Kovács",
         "Ladislav",
         0.99
        ],
        [
         20,
         "Miller",
         "Dan",
         0.99
        ],
        [
         50,
         "Muñoz",
         "Enrique",
         0.99
        ],
        [
         33,
         "Sullivan",
         "Ellie",
         0.99
        ],
        [
         39,
         "Bernard",
         "Camille",
         0.99
        ],
        [
         30,
         "Francis",
         "Edward",
         0.99
        ],
        [
         38,
         "Schröder",
         "Niklas",
         0.99
        ],
        [
         32,
         "Mitchell",
         "Aaron",
         0.99
        ],
        [
         52,
         "Jones",
         "Emma",
         0.99
        ],
        [
         11,
         "Rocha",
         "Alexandre",
         0.99
        ],
        [
         12,
         "Almeida",
         "Roberto",
         0.99
        ],
        [
         15,
         "Peterson",
         "Jennifer",
         0.99
        ],
        [
         29,
         "Brown",
         "Robert",
         0.99
        ],
        [
         51,
         "Johansson",
         "Joakim",
         0.99
        ],
        [
         14,
         "Philips",
         "Mark",
         0.99
        ],
        [
         4,
         "Hansen",
         "Bjørn",
         0.99
        ],
        [
         47,
         "Mancini",
         "Lucas",
         0.99
        ],
        [
         53,
         "Hughes",
         "Phil",
         0.99
        ],
        [
         6,
         "Holý",
         "Helena",
         0.99
        ],
        [
         41,
         "Dubois",
         "Marc",
         0.99
        ],
        [
         3,
         "Tremblay",
         "François",
         0.99
        ],
        [
         56,
         "Gutiérrez",
         "Diego",
         0.99
        ],
        [
         23,
         "Gordon",
         "John",
         0.99
        ],
        [
         31,
         "Silk",
         "Martha",
         0.99
        ],
        [
         24,
         "Ralston",
         "Frank",
         0.99
        ],
        [
         16,
         "Harris",
         "Frank",
         0.99
        ],
        [
         40,
         "Lefebvre",
         "Dominique",
         0.99
        ],
        [
         21,
         "Chase",
         "Kathy",
         0.99
        ],
        [
         18,
         "Brooks",
         "Michelle",
         0.99
        ],
        [
         49,
         "Wójcik",
         "Stanisław",
         0.99
        ],
        [
         10,
         "Martins",
         "Eduardo",
         0.99
        ],
        [
         55,
         "Taylor",
         "Mark",
         0.99
        ],
        [
         54,
         "Murray",
         "Steve",
         0.99
        ],
        [
         5,
         "Wichterlová",
         "František",
         0.99
        ],
        [
         22,
         "Leacock",
         "Heather",
         0.99
        ],
        [
         17,
         "Smith",
         "Jack",
         0.99
        ],
        [
         36,
         "Schneider",
         "Hannah",
         0.99
        ],
        [
         35,
         "Sampaio",
         "Madalena",
         0.99
        ],
        [
         1,
         "Gonçalves",
         "Luís",
         0.99
        ],
        [
         19,
         "Goyer",
         "Tim",
         0.99
        ],
        [
         27,
         "Gray",
         "Patrick",
         0.99
        ],
        [
         43,
         "Mercier",
         "Isabelle",
         0.99
        ],
        [
         8,
         "Peeters",
         "Daan",
         0.99
        ],
        [
         26,
         "Cunningham",
         "Richard",
         0.99
        ],
        [
         59,
         "Srivastava",
         "Puja",
         0.99
        ],
        [
         58,
         "Pareek",
         "Manoj",
         0.99
        ],
        [
         25,
         "Stevens",
         "Victor",
         0.99
        ],
        [
         46,
         "O'Reilly",
         "Hugh",
         0.99
        ],
        [
         48,
         "Van der Berg",
         "Johannes",
         0.99
        ],
        [
         9,
         "Nielsen",
         "Kara",
         0.99
        ],
        [
         42,
         "Girard",
         "Wyatt",
         0.99
        ],
        [
         44,
         "Hämäläinen",
         "Terhi",
         0.99
        ]
       ],
       "datasetInfos": [],
       "dbfsResultPath": null,
       "isJsonSchema": true,
       "metadata": {
        "dataframeName": "_sqldf",
        "executionCount": 29
       },
       "overflow": false,
       "plotOptions": {
        "customPlotOptions": {},
        "displayType": "table",
        "pivotAggregation": null,
        "pivotColumns": null,
        "xColumns": null,
        "yColumns": null
       },
       "removedWidgets": [],
       "schema": [
        {
         "metadata": "{}",
         "name": "CustomerID",
         "type": "\"long\""
        },
        {
         "metadata": "{\"__CHAR_VARCHAR_TYPE_STRING\":\"varchar(65535)\",\"scale\":0}",
         "name": "LastName",
         "type": "\"string\""
        },
        {
         "metadata": "{\"__CHAR_VARCHAR_TYPE_STRING\":\"varchar(65535)\",\"scale\":0}",
         "name": "FirstName",
         "type": "\"string\""
        },
        {
         "metadata": "{}",
         "name": "Amount",
         "type": "\"double\""
        }
       ],
       "type": "table"
      }
     },
     "output_type": "display_data"
    }
   ],
   "source": [
    "%sql\n",
    "CREATE OR REPLACE TABLE chinook_dlh.fact_orders_by_customer_gold AS (\n",
    "  SELECT customer_id AS CustomerID\n",
    "    , LastName\n",
    "    , FirstName\n",
    "    , unit_price * quantity AS Amount\n",
    "  FROM chinook_dlh.fact_orders_silver\n",
    "  GROUP BY CustomerID, LastName, FirstName, quantity, unit_price\n",
    "  ORDER BY Amount DESC);\n",
    "\n",
    "SELECT * FROM chinook_dlh.fact_orders_by_customer_gold;"
   ]
  }
 ],
 "metadata": {
  "application/vnd.databricks.v1+notebook": {
   "dashboards": [],
   "language": "python",
   "notebookMetadata": {
    "mostRecentlyExecutedCommandWithImplicitDF": {
     "commandId": 1181861906202229,
     "dataframes": [
      "_sqldf"
     ]
    },
    "pythonIndentUnit": 4
   },
   "notebookName": "Gunn Final Project",
   "widgets": {}
  }
 },
 "nbformat": 4,
 "nbformat_minor": 0
}
